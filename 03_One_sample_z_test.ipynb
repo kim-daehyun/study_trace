{
  "nbformat": 4,
  "nbformat_minor": 0,
  "metadata": {
    "colab": {
      "name": "03_One_sample_z_test.ipynb",
      "provenance": [],
      "collapsed_sections": [],
      "authorship_tag": "ABX9TyPVDnYBylJDRAxKxtCVbKLp",
      "include_colab_link": true
    },
    "kernelspec": {
      "name": "python3",
      "display_name": "Python 3"
    }
  },
  "cells": [
    {
      "cell_type": "markdown",
      "metadata": {
        "id": "view-in-github",
        "colab_type": "text"
      },
      "source": [
        "<a href=\"https://colab.research.google.com/github/kim-daehyun/study_trace/blob/Computer-Statistics/03_One_sample_z_test.ipynb\" target=\"_parent\"><img src=\"https://colab.research.google.com/assets/colab-badge.svg\" alt=\"Open In Colab\"/></a>"
      ]
    },
    {
      "cell_type": "code",
      "metadata": {
        "id": "pn3KIJLFGO2m",
        "colab_type": "code",
        "colab": {}
      },
      "source": [
        "from scipy import stats\n",
        "import numpy as np\n",
        "from scipy import integrate\n",
        "import matplotlib.pyplot as plt"
      ],
      "execution_count": null,
      "outputs": []
    },
    {
      "cell_type": "markdown",
      "metadata": {
        "id": "kpKrSXJUOBDg",
        "colab_type": "text"
      },
      "source": [
        "#**Example**"
      ]
    },
    {
      "cell_type": "code",
      "metadata": {
        "id": "URnDdJqXNS-f",
        "colab_type": "code",
        "colab": {
          "base_uri": "https://localhost:8080/",
          "height": 53
        },
        "outputId": "bb9be18b-7f3d-453d-f962-54a4ab97b5b2"
      },
      "source": [
        "# You have a population's mean and standard deviation (mean = 18, SD = 3).\n",
        "\n",
        "# And, here is a sample and \n",
        "# you want to test if the sample is different from the known population.\n",
        "sample = [22, 16, 20, 16, 26, 15, 20, 15, 17, 22,\n",
        "           15, 25, 19, 18, 16, 13, 29, 27, 21, 19, \n",
        "           23, 22, 12, 22, 17, 16, 15, 19, 17, 24]\n",
        "\n",
        "# Calculate the sample statistics\n",
        "sample_mean = np.mean(sample)\n",
        "sample_std = np.std(sample, ddof=1)\n",
        "print(\"sample Mean : {}\", format(sample_mean))\n",
        "print(\"sample Std : {}\", format(sample_std))"
      ],
      "execution_count": null,
      "outputs": [
        {
          "output_type": "stream",
          "text": [
            "sample Mean : {} 19.266666666666666\n",
            "sample Std : {} 4.266415222475974\n"
          ],
          "name": "stdout"
        }
      ]
    },
    {
      "cell_type": "markdown",
      "metadata": {
        "id": "cUbBUjxsOUqv",
        "colab_type": "text"
      },
      "source": [
        "Step 1. Define null and alternative hypotheses\n"
      ]
    },
    {
      "cell_type": "code",
      "metadata": {
        "id": "VU_R-rWVOcGH",
        "colab_type": "code",
        "colab": {
          "base_uri": "https://localhost:8080/",
          "height": 53
        },
        "outputId": "51e9bccb-b96f-4245-c157-93490013ad3f"
      },
      "source": [
        "# H0 : mu = 18\n",
        "print(\"H0: The population mean is 18.\")\n",
        "\n",
        "# H1 : mu != 18\n",
        "print(\"H1: The population mean is not equal to 18.\")"
      ],
      "execution_count": null,
      "outputs": [
        {
          "output_type": "stream",
          "text": [
            "H0: The population mean is 18.\n",
            "H1: The population mean is not equal to 18.\n"
          ],
          "name": "stdout"
        }
      ]
    },
    {
      "cell_type": "markdown",
      "metadata": {
        "id": "w84uRe_GOiAQ",
        "colab_type": "text"
      },
      "source": [
        "# Step 2. Calculate a test statistic"
      ]
    },
    {
      "cell_type": "code",
      "metadata": {
        "id": "oFq3svSWOk-P",
        "colab_type": "code",
        "colab": {}
      },
      "source": [
        "%matplotlib inline"
      ],
      "execution_count": null,
      "outputs": []
    },
    {
      "cell_type": "code",
      "metadata": {
        "id": "91EqUy_tOtt_",
        "colab_type": "code",
        "colab": {
          "base_uri": "https://localhost:8080/",
          "height": 35
        },
        "outputId": "784c06dc-7919-4cdd-c7a1-f728b73854e1"
      },
      "source": [
        "# z = (sample_mean - mu) / std_error\n",
        "\n",
        "sample_error = sample_mean - 18\n",
        "standard_error = 3/ np.sqrt(len(sample))\n",
        "\n",
        "z = sample_error / standard_error\n",
        "\n",
        "print(\"z : {}\", format(z))"
      ],
      "execution_count": null,
      "outputs": [
        {
          "output_type": "stream",
          "text": [
            "z : {} 2.3126063539107\n"
          ],
          "name": "stdout"
        }
      ]
    },
    {
      "cell_type": "markdown",
      "metadata": {
        "id": "qiuORW8wQgSb",
        "colab_type": "text"
      },
      "source": [
        "# Step 3. Check how likely the test statistic can be obtained."
      ]
    },
    {
      "cell_type": "code",
      "metadata": {
        "id": "h32ROwqZOtn_",
        "colab_type": "code",
        "colab": {
          "base_uri": "https://localhost:8080/",
          "height": 299
        },
        "outputId": "f8a22ce2-5fc1-4ef8-a163-2f400c7a8d4c"
      },
      "source": [
        "#the z-statistic follows z-distribution\n",
        "z_dist = stats.norm(loc = 0, scale = 1) # 표준정규분포\n",
        "x = np.linspace(-10, 10, 100)\n",
        "y = z_dist.pdf(x)\n",
        "plt.plot(x,y)\n",
        "plt.title('PDF of a normal distribution') \n",
        "\n",
        "right_interval = np.linspace(abs(z), x[-1], 50)\n",
        "left_interval = np.linspace( -x[-1],-abs(z), 50)\n",
        "plt.fill_between(right_interval, z_dist.pdf(right_interval), color='#e1b1b4', alpha=1)\n",
        "plt.fill_between(left_interval, z_dist.pdf(left_interval), color='#e1b1b4', alpha=1)"
      ],
      "execution_count": null,
      "outputs": [
        {
          "output_type": "execute_result",
          "data": {
            "text/plain": [
              "<matplotlib.collections.PolyCollection at 0x7f898a098470>"
            ]
          },
          "metadata": {
            "tags": []
          },
          "execution_count": 15
        },
        {
          "output_type": "display_data",
          "data": {
            "image/png": "[encoded data removed]",
            "text/plain": [
              "<Figure size 432x288 with 1 Axes>"
            ]
          },
          "metadata": {
            "tags": [],
            "needs_background": "light"
          }
        }
      ]
    },
    {
      "cell_type": "code",
      "metadata": {
        "id": "jxjhb96-SCBR",
        "colab_type": "code",
        "colab": {
          "base_uri": "https://localhost:8080/",
          "height": 35
        },
        "outputId": "0d98be5b-b1f6-49c9-c3ce-613052a6d36b"
      },
      "source": [
        "# Calculate the p-value.\n",
        "p= integrate.quad(z_dist.pdf, left_interval[0], left_interval[-1]) #  Arg: function, from_value, to_value\n",
        "p[0]*= 2 # two-tailed\n",
        "\n",
        "print(\"The p-value for this test: {}\".format(p[0]))\n"
      ],
      "execution_count": null,
      "outputs": [
        {
          "output_type": "stream",
          "text": [
            "The p-value for this test: 0.02074429187411635\n"
          ],
          "name": "stdout"
        }
      ]
    },
    {
      "cell_type": "code",
      "metadata": {
        "id": "Rlm9yEZsd71V",
        "colab_type": "code",
        "colab": {}
      },
      "source": [
        "a = {\"번호\":123}"
      ],
      "execution_count": null,
      "outputs": []
    },
    {
      "cell_type": "code",
      "metadata": {
        "id": "UzyUsVxFeCGz",
        "colab_type": "code",
        "colab": {}
      },
      "source": [
        "a = [1,1,2,3,2]"
      ],
      "execution_count": null,
      "outputs": []
    },
    {
      "cell_type": "code",
      "metadata": {
        "id": "YDW7wGpceWMM",
        "colab_type": "code",
        "colab": {}
      },
      "source": [
        "a = set(a)"
      ],
      "execution_count": null,
      "outputs": []
    },
    {
      "cell_type": "code",
      "metadata": {
        "id": "f4rl7IV8eZvM",
        "colab_type": "code",
        "colab": {
          "base_uri": "https://localhost:8080/",
          "height": 35
        },
        "outputId": "6489b40d-5d6e-46e8-b3de-b5dca7fd947d"
      },
      "source": [
        "a"
      ],
      "execution_count": null,
      "outputs": [
        {
          "output_type": "execute_result",
          "data": {
            "text/plain": [
              "{1, 2, 3}"
            ]
          },
          "metadata": {
            "tags": []
          },
          "execution_count": 50
        }
      ]
    },
    {
      "cell_type": "code",
      "metadata": {
        "id": "19cufe7aRSIu",
        "colab_type": "code",
        "colab": {
          "base_uri": "https://localhost:8080/",
          "height": 35
        },
        "outputId": "b43487bc-4a6a-4744-e81c-2c695cd9777e"
      },
      "source": [
        "# Conclusion (Significance level = 5%)\n",
        "if p < 0.05:\n",
        "  print(\"Reject H0: The population mean is not equal to 18.\")\n",
        "else:\n",
        "  print(\"Accept H0: The population mean is 18.\")"
      ],
      "execution_count": null,
      "outputs": [
        {
          "output_type": "stream",
          "text": [
            "Reject H0: The population mean is not equal to 18.\n"
          ],
          "name": "stdout"
        }
      ]
    },
    {
      "cell_type": "markdown",
      "metadata": {
        "id": "sfIdaVfcXHko",
        "colab_type": "text"
      },
      "source": [
        "##### [Additional] You can calculate the p-value by the SF. "
      ]
    },
    {
      "cell_type": "code",
      "metadata": {
        "id": "5LDBOk9hXHRx",
        "colab_type": "code",
        "colab": {
          "base_uri": "https://localhost:8080/",
          "height": 35
        },
        "outputId": "2ce0a2f2-0bf6-4c0d-d2b5-66af27550c2b"
      },
      "source": [
        "p = z_dist.sf(abs(z)) * 2\n",
        "print(\"p-value : {}\".format(p))"
      ],
      "execution_count": null,
      "outputs": [
        {
          "output_type": "stream",
          "text": [
            "p-value : 0.020744291874116326\n"
          ],
          "name": "stdout"
        }
      ]
    },
    {
      "cell_type": "markdown",
      "metadata": {
        "id": "xcogjxHFXqTw",
        "colab_type": "text"
      },
      "source": [
        "##### [Additional] You can use critical values."
      ]
    },
    {
      "cell_type": "code",
      "metadata": {
        "id": "mxim5I6iXrCo",
        "colab_type": "code",
        "colab": {
          "base_uri": "https://localhost:8080/",
          "height": 35
        },
        "outputId": "168abe0d-3b85-42ce-b8c2-90259f26bdb3"
      },
      "source": [
        "cv = z_dist.ppf(.975)\n",
        "print(\"Critical values (alpha = 0.05): -{0} ,{0}\".format(cv))"
      ],
      "execution_count": null,
      "outputs": [
        {
          "output_type": "stream",
          "text": [
            "Critical values (alpha = 0.05): -1.959963984540054 ,1.959963984540054\n"
          ],
          "name": "stdout"
        }
      ]
    }
  ]
}