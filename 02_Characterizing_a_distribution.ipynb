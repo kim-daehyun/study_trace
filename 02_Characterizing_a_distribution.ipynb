{
  "nbformat": 4,
  "nbformat_minor": 0,
  "metadata": {
    "colab": {
      "name": "02_Characterizing_a_distribution.ipynb",
      "provenance": [],
      "collapsed_sections": [],
      "authorship_tag": "ABX9TyPHEpUlqLhbxIGHTjMj+rxA",
      "include_colab_link": true
    },
    "kernelspec": {
      "name": "python3",
      "display_name": "Python 3"
    }
  },
  "cells": [
    {
      "cell_type": "markdown",
      "metadata": {
        "id": "view-in-github",
        "colab_type": "text"
      },
      "source": [
        "<a href=\"https://colab.research.google.com/github/kim-daehyun/study_trace/blob/Computer-Statistics/02_Characterizing_a_distribution.ipynb\" target=\"_parent\"><img src=\"https://colab.research.google.com/assets/colab-badge.svg\" alt=\"Open In Colab\"/></a>"
      ]
    },
    {
      "cell_type": "code",
      "metadata": {
        "id": "8sknGeYSG08P",
        "colab_type": "code",
        "colab": {}
      },
      "source": [
        "from scipy import stats\n",
        "import numpy as np\n",
        "import matplotlib.pyplot as plt"
      ],
      "execution_count": null,
      "outputs": []
    },
    {
      "cell_type": "code",
      "metadata": {
        "id": "5n9kqNQXHb60",
        "colab_type": "code",
        "colab": {
          "base_uri": "https://localhost:8080/",
          "height": 72
        },
        "outputId": "c3ac2b81-b7a2-45ad-b5db-ad018aadcfe4"
      },
      "source": [
        "rv_norm = stats.norm(loc=0, scale = 1)\n",
        "\n",
        "#Make a sample which consists of 30 obervations\n",
        "samples = rv_norm.rvs(size = 30)\n",
        "\n",
        "print(\"Mean : {}\".format(np.mean(samples)))\n",
        "print(\"Mean : {}\".format(np.median(samples)))\n",
        "print(\"Mean : {}\".format(stats.mode(samples)))\n"
      ],
      "execution_count": null,
      "outputs": [
        {
          "output_type": "stream",
          "text": [
            "Mean : 0.07011088273022746\n",
            "Mean : -0.010026262332873537\n",
            "Mean : ModeResult(mode=array([-1.58191508]), count=array([1]))\n"
          ],
          "name": "stdout"
        }
      ]
    },
    {
      "cell_type": "code",
      "metadata": {
        "id": "f4pyV-9XIPip",
        "colab_type": "code",
        "colab": {
          "base_uri": "https://localhost:8080/",
          "height": 109
        },
        "outputId": "3489b0db-ca32-42e7-ade7-9b334976a698"
      },
      "source": [
        "print(\"Range: {}\".format(np.max(samples) - np.min(samples)))\n",
        "print(\"Percentiles: {}\".format(np.percentile(samples, 1, interpolation='nearest')))\n",
        "print(\"IQR: {}\".format(np.percentile(samples, 75, interpolation='nearest') - \n",
        "                          np.percentile(samples, 25, interpolation='nearest')))\n",
        "print(\"Variance (Biased): {}\".format(np.var(samples, ddof = 0 ))) # delta dof\n",
        "print(\"Variance (Unbiased): {}\".format(np.var(samples, ddof = 1 )))"
      ],
      "execution_count": null,
      "outputs": [
        {
          "output_type": "stream",
          "text": [
            "Range: 3.496895701289205\n",
            "Percentiles: -1.5819150771139534\n",
            "IQR: 1.5249095691252517\n",
            "Variance (Biased): 0.8474324969116173\n",
            "Variance (Unbiased): 0.8766543071499489\n"
          ],
          "name": "stdout"
        }
      ]
    },
    {
      "cell_type": "code",
      "metadata": {
        "id": "7_saVsacJuAL",
        "colab_type": "code",
        "colab": {
          "base_uri": "https://localhost:8080/",
          "height": 54
        },
        "outputId": "74377c7d-d78c-43cd-9806-7f48b74e4fec"
      },
      "source": [
        "samples = rv_norm.rvs(size = 10)\n",
        "print(\"Variance (Biased): {}\".format(np.var(samples, ddof = 0 ))) # delta dof\n",
        "print(\"Variance (Unbiased): {}\".format(np.var(samples, ddof = 1 )))"
      ],
      "execution_count": null,
      "outputs": [
        {
          "output_type": "stream",
          "text": [
            "Variance (Biased): 1.0657254505417166\n",
            "Variance (Unbiased): 1.1841393894907961\n"
          ],
          "name": "stdout"
        }
      ]
    }
  ]
}