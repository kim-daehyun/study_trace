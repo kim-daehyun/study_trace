{
  "nbformat": 4,
  "nbformat_minor": 0,
  "metadata": {
    "colab": {
      "name": "06_Paired_t_test.ipynb",
      "provenance": [],
      "authorship_tag": "ABX9TyOl5z75GFbpVfI0yzJOlETh",
      "include_colab_link": true
    },
    "kernelspec": {
      "name": "python3",
      "display_name": "Python 3"
    }
  },
  "cells": [
    {
      "cell_type": "markdown",
      "metadata": {
        "id": "view-in-github",
        "colab_type": "text"
      },
      "source": [
        "<a href=\"https://colab.research.google.com/github/kim-daehyun/study_trace/blob/Computer-Statistics/06_Paired_t_test.ipynb\" target=\"_parent\"><img src=\"https://colab.research.google.com/assets/colab-badge.svg\" alt=\"Open In Colab\"/></a>"
      ]
    },
    {
      "cell_type": "code",
      "metadata": {
        "id": "fOaLMjYTuZip",
        "colab_type": "code",
        "colab": {}
      },
      "source": [
        "from scipy import stats\n",
        "import numpy as np\n",
        "from scipy import integrate\n",
        "import matplotlib.pyplot as plt\n",
        "%matplotlib inline"
      ],
      "execution_count": 2,
      "outputs": []
    },
    {
      "cell_type": "markdown",
      "metadata": {
        "id": "fhGUF_hdIwW1",
        "colab_type": "text"
      },
      "source": [
        "#Example"
      ]
    },
    {
      "cell_type": "code",
      "metadata": {
        "id": "onBRZikTIzKE",
        "colab_type": "code",
        "colab": {
          "base_uri": "https://localhost:8080/",
          "height": 143
        },
        "outputId": "38d40d8a-03c7-4639-cce4-3b1d5ff62caf"
      },
      "source": [
        "# Here are two samples that are related (paired).\n",
        "\n",
        "sample1 = [ 0.46654953,  8.58344094,  6.2226718 ,  4.02623735, -0.28971343,\n",
        "        2.23459591, -0.70380069,  6.1613344 , -2.01381234,  6.7876989 ,\n",
        "        2.70165845,  1.07331893,  3.09908613,  1.62977907, -1.4020262 ,\n",
        "        3.28549113,  5.88489172, -2.98195997,  8.02642372,  2.57072504,\n",
        "        2.19463139,  2.880722  ,  2.56419551,  5.57418017,  2.36137833,\n",
        "        4.02824538,  1.34360523,  1.26047755,  2.68235402,  5.68823028]\n",
        "\n",
        "sample2 = [5.04382364, 5.77158757, 5.71542933, 3.47266062, 1.46869544,\n",
        "       5.48405734, 5.52707135, 4.59739957, 5.15823101, 1.97986375,\n",
        "       3.68646085, 5.13720215, 4.73987354, 4.13524575, 2.87537463,\n",
        "       4.80392496, 5.60067725, 3.16642891, 7.14302231, 4.31380693,\n",
        "       3.98904512, 3.82204847, 5.05015666, 2.49548964, 1.85192112,\n",
        "       2.76668768, 2.02110967, 2.72668766, 4.85810735, 4.92663154]\n",
        "\n",
        "sample1_mean = np.mean(sample1)\n",
        "sample1_std = np.std(sample1 , ddof = 1)\n",
        "print(\"sample1:\")\n",
        "print(\"Mean : {}\".format(sample1_mean))\n",
        "print(\"Std : {}\".format(sample1_std))\n",
        "\n",
        "\n",
        "sample2_mean = np.mean(sample2)\n",
        "sample2_std = np.std(sample2 , ddof = 1)\n",
        "print(\"\\nsample2:\")\n",
        "print(\"Mean : {}\".format(sample2_mean))\n",
        "print(\"Std : {}\".format(sample2_std))\n",
        "\n",
        "# Let's check the significance of the difference by the two-sample t-test."
      ],
      "execution_count": 7,
      "outputs": [
        {
          "output_type": "stream",
          "text": [
            "sample1:\n",
            "Mean : 2.8646870083333336\n",
            "Std : 2.875776806687275\n",
            "\n",
            "sample2:\n",
            "Mean : 4.144290727\n",
            "Std : 1.405821355255595\n"
          ],
          "name": "stdout"
        }
      ]
    },
    {
      "cell_type": "markdown",
      "metadata": {
        "id": "DYqFbZ5hNkBo",
        "colab_type": "text"
      },
      "source": [
        "# Step 2. Calculate a test statistic"
      ]
    },
    {
      "cell_type": "code",
      "metadata": {
        "id": "KBbQvlatNkr9",
        "colab_type": "code",
        "colab": {
          "base_uri": "https://localhost:8080/",
          "height": 35
        },
        "outputId": "e470e000-8296-4f86-b005-ad39e9242fc9"
      },
      "source": [
        "# Difference between pairs\n",
        "sample_diff = [s1 - s2 for s1, s2 in zip(sample1, sample2)]\n",
        "\n",
        "# t = sample_error / std_error\n",
        "sample_error = np.mean(sample_diff) - 0      # (sample_dff_mean - 0)\n",
        "standard_error = np.std(sample_diff, ddof =1) / np.sqrt(len(sample_diff))\n",
        "\n",
        "t = sample_error/standard_error\n",
        "\n",
        "print('Test statistict : {}'.format(t))"
      ],
      "execution_count": 13,
      "outputs": [
        {
          "output_type": "stream",
          "text": [
            "Test statistict : -2.49919496328387\n"
          ],
          "name": "stdout"
        }
      ]
    },
    {
      "cell_type": "markdown",
      "metadata": {
        "id": "p9AS4T4UO6N-",
        "colab_type": "text"
      },
      "source": [
        "# Step 3. Check how likely the test statistic can be obtained."
      ]
    },
    {
      "cell_type": "code",
      "metadata": {
        "id": "60m7aHSVO8KV",
        "colab_type": "code",
        "colab": {
          "base_uri": "https://localhost:8080/",
          "height": 299
        },
        "outputId": "f2d6415a-55a1-42d1-84ea-0835a458c37f"
      },
      "source": [
        "# The t-statistic follows t-distribution.\n",
        "# The t-distribution is described by DF of a sample.\n",
        "t_dist = stats.t(df = len(sample_diff)-1)\n",
        "x = np.linspace(-7, 7, 100)\n",
        "y = t_dist.pdf(x)\n",
        "plt.plot(x,y)\n",
        "plt.title(\"PDF of a t-distribution\")\n",
        "\n",
        "# Fill the area of the values to be \n",
        "# as extreme as or more extreme than the test statistic. (p-value)\n",
        "right_interval = np.linspace(abs(t), x[-1], 50)\n",
        "left_interval = np.linspace(-x[-1], -abs(t),  50)\n",
        "plt.fill_between(right_interval,  t_dist.pdf(right_interval) , color='#e1b1b4', alpha=1)\n",
        "plt.fill_between(left_interval,  t_dist.pdf(left_interval) , color='#e1b1b4', alpha=1)"
      ],
      "execution_count": 25,
      "outputs": [
        {
          "output_type": "execute_result",
          "data": {
            "text/plain": [
              "<matplotlib.collections.PolyCollection at 0x7fdd751f4f28>"
            ]
          },
          "metadata": {
            "tags": []
          },
          "execution_count": 25
        },
        {
          "output_type": "display_data",
          "data": {
            "image/png": "[encoded data removed]",
            "text/plain": [
              "<Figure size 432x288 with 1 Axes>"
            ]
          },
          "metadata": {
            "tags": [],
            "needs_background": "light"
          }
        }
      ]
    },
    {
      "cell_type": "code",
      "metadata": {
        "id": "ornfK3YzRGB4",
        "colab_type": "code",
        "colab": {
          "base_uri": "https://localhost:8080/",
          "height": 35
        },
        "outputId": "2dbd90b4-4f14-4fae-b1ba-943e48bf6a77"
      },
      "source": [
        "# Calculate the p-value.\n",
        "p, _ = integrate.quad(t_dist.pdf, left_interval[0], left_interval[-1]) #  Arg: function, from_value, to_value \n",
        "p *= 2 # two-tailed\n",
        "\n",
        "print(\"The p-value for this test: {}\".format(p))"
      ],
      "execution_count": 30,
      "outputs": [
        {
          "output_type": "stream",
          "text": [
            "The p-value for this test: 0.01835935408843935\n"
          ],
          "name": "stdout"
        }
      ]
    },
    {
      "cell_type": "code",
      "metadata": {
        "id": "CusN6-UDRcnN",
        "colab_type": "code",
        "colab": {
          "base_uri": "https://localhost:8080/",
          "height": 35
        },
        "outputId": "d84b341f-d8e3-40e3-ac5e-8aa79884590c"
      },
      "source": [
        "# Conclusion (Significance level = 5%)\n",
        "if p < 0.05:\n",
        "  print(\"Reject H0: The population mean is not equal to 4.5.\")\n",
        "else:\n",
        "  print(\"Accept H0: The population mean is 4.5.\")"
      ],
      "execution_count": 31,
      "outputs": [
        {
          "output_type": "stream",
          "text": [
            "Reject H0: The population mean is not equal to 4.5.\n"
          ],
          "name": "stdout"
        }
      ]
    },
    {
      "cell_type": "markdown",
      "metadata": {
        "id": "RbK_wL72Rx88",
        "colab_type": "text"
      },
      "source": [
        "##### [Additional] You can calculate the p-value by the SF. "
      ]
    },
    {
      "cell_type": "code",
      "metadata": {
        "id": "LlNooL3mTVWV",
        "colab_type": "code",
        "colab": {
          "base_uri": "https://localhost:8080/",
          "height": 35
        },
        "outputId": "5252994f-ea7b-4d3f-98d0-0fa9d2bc48cd"
      },
      "source": [
        "p = t_dist.sf( abs(t) ) * 2\n",
        "print(\"p-value : {0}\".format(p))"
      ],
      "execution_count": 32,
      "outputs": [
        {
          "output_type": "stream",
          "text": [
            "p-value : 0.018359461091154692\n"
          ],
          "name": "stdout"
        }
      ]
    },
    {
      "cell_type": "markdown",
      "metadata": {
        "id": "jas9Ob-zUh1m",
        "colab_type": "text"
      },
      "source": [
        "##### [Additional] You can use critical values."
      ]
    },
    {
      "cell_type": "code",
      "metadata": {
        "id": "lk7K-P-jTvgK",
        "colab_type": "code",
        "colab": {
          "base_uri": "https://localhost:8080/",
          "height": 35
        },
        "outputId": "2df446b2-5f3d-42f9-ca9f-7b75767b28fa"
      },
      "source": [
        "cv = t_dist.ppf(.975)\n",
        "print(\"Critical values(alpha = 0.05) : -{0}, {0}\".format(cv))\n",
        "\n",
        "# If the test statistic is beyond the critical values, \n",
        "# we should reject the null hypothesis."
      ],
      "execution_count": 34,
      "outputs": [
        {
          "output_type": "stream",
          "text": [
            "Critical values(alpha = 0.05) : -2.045229642132703, 2.045229642132703\n"
          ],
          "name": "stdout"
        }
      ]
    },
    {
      "cell_type": "markdown",
      "metadata": {
        "id": "Q_JvpjVXUrGW",
        "colab_type": "text"
      },
      "source": [
        "### Or you can use codes in the 'stats' module.\n"
      ]
    },
    {
      "cell_type": "code",
      "metadata": {
        "id": "MjTl3GPOUr9W",
        "colab_type": "code",
        "colab": {
          "base_uri": "https://localhost:8080/",
          "height": 53
        },
        "outputId": "359fd833-0e1c-4858-c928-f7989a48f330"
      },
      "source": [
        "t_, p_ = stats.ttest_1samp(sample_diff, 0 )\n",
        "print(\"Test statistic t: {}\".format(t_))\n",
        "print(\"p-value: {}\".format(p_))"
      ],
      "execution_count": 35,
      "outputs": [
        {
          "output_type": "stream",
          "text": [
            "Test statistic t: -2.49919496328387\n",
            "p-value: 0.018359461091154692\n"
          ],
          "name": "stdout"
        }
      ]
    },
    {
      "cell_type": "markdown",
      "metadata": {
        "id": "FKlazf0OVAXQ",
        "colab_type": "text"
      },
      "source": [
        "# (Step 4) Calculate the effect size"
      ]
    },
    {
      "cell_type": "code",
      "metadata": {
        "id": "4GrbSksSVBO2",
        "colab_type": "code",
        "colab": {
          "base_uri": "https://localhost:8080/",
          "height": 35
        },
        "outputId": "4d78711b-2aaa-4631-f182-922c49768223"
      },
      "source": [
        "# The effect size for two-sample t-test is cohen's d.\n",
        "# d = | sample_diff_mean - 0 | / sample_diff_std\n",
        "\n",
        "d = abs(np.mean(sample_diff) - 0) / np.std(sample_diff)\n",
        "\n",
        "print(\"Effect size: {}\".format(d))"
      ],
      "execution_count": 36,
      "outputs": [
        {
          "output_type": "stream",
          "text": [
            "Effect size: 0.46408885387738297\n"
          ],
          "name": "stdout"
        }
      ]
    }
  ]
}