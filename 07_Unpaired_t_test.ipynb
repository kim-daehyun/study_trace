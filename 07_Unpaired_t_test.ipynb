{
  "nbformat": 4,
  "nbformat_minor": 0,
  "metadata": {
    "colab": {
      "name": "07_Unpaired_t_test.ipynb",
      "provenance": [],
      "authorship_tag": "ABX9TyPtKrvus5LD+1zch4SKiACf",
      "include_colab_link": true
    },
    "kernelspec": {
      "name": "python3",
      "display_name": "Python 3"
    }
  },
  "cells": [
    {
      "cell_type": "markdown",
      "metadata": {
        "id": "view-in-github",
        "colab_type": "text"
      },
      "source": [
        "<a href=\"https://colab.research.google.com/github/kim-daehyun/study_trace/blob/Computer-Statistics/07_Unpaired_t_test.ipynb\" target=\"_parent\"><img src=\"https://colab.research.google.com/assets/colab-badge.svg\" alt=\"Open In Colab\"/></a>"
      ]
    },
    {
      "cell_type": "code",
      "metadata": {
        "id": "wbTv60cbVfGS",
        "colab_type": "code",
        "colab": {}
      },
      "source": [
        "from scipy import stats\n",
        "import numpy as np\n",
        "from scipy import integrate\n",
        "import matplotlib.pyplot as plt\n",
        "%matplotlib inline"
      ],
      "execution_count": 11,
      "outputs": []
    },
    {
      "cell_type": "markdown",
      "metadata": {
        "id": "FZehArB7V58v",
        "colab_type": "text"
      },
      "source": [
        "# Example"
      ]
    },
    {
      "cell_type": "code",
      "metadata": {
        "id": "-xC249wXV5hX",
        "colab_type": "code",
        "colab": {
          "base_uri": "https://localhost:8080/",
          "height": 143
        },
        "outputId": "65b91d6c-c548-47ec-a69e-77da25c3a47c"
      },
      "source": [
        "# Here are two independent samples.\n",
        "\n",
        "sample1 = [ 3.74339687,  3.37456983,  3.22622504,  3.85360595,  3.83070471,\n",
        "        3.22184653,  3.32714127,  3.23057107,  2.56260439,  3.64864081,\n",
        "        3.12198407,  3.33075965,  3.99188918,  3.04224009,  3.88579632,\n",
        "        2.73908669,  3.36890061,  3.50628879,  3.15412542,  2.72540109,\n",
        "        3.81372483,  3.3415192 ,  3.35567834,  3.09265056,  3.69706704,\n",
        "        3.73405978,  3.95644172,  3.20593825,  2.80396487,  3.41423476]\n",
        "\n",
        "sample2 = [3.40264017, 3.9686492 , 3.64783273, 2.58794221, 3.88915031,\n",
        "       3.32453254, 3.38390787, 3.30757769, 3.24202768, 3.25168926,\n",
        "       3.20229674, 3.5605752 , 3.18762347, 3.54824798, 3.60634902,\n",
        "       2.79630925, 3.62130994, 3.74178157, 3.3622675 , 3.751688  ,\n",
        "       3.66202326, 3.12759647, 3.44223548, 3.49414514, 3.22058186]\n",
        "\n",
        "# Calculate the statistics of the samples\n",
        "sample1_mean = np.mean(sample1)\n",
        "sample1_std = np.std(sample1, ddof = 1 )\n",
        "print(\"Sample 1: \")\n",
        "print(\" Mean: {}\".format(sample1_mean))\n",
        "print(\" Standard Deviation (Unbiased): {}\".format(sample1_std))  \n",
        "\n",
        "sample2_mean = np.mean(sample2)\n",
        "sample2_std = np.std(sample2, ddof = 1 )\n",
        "print(\"\\nSample 2: \")\n",
        "print(\" Mean: {}\".format(sample2_mean))\n",
        "print(\" Standard Deviation (Unbiased): {}\".format(sample2_std))  \n",
        "\n",
        "# Let's check the significance of the difference by the two-sample unpaired t-test."
      ],
      "execution_count": 12,
      "outputs": [
        {
          "output_type": "stream",
          "text": [
            "Sample 1: \n",
            " Mean: 3.3767019243333327\n",
            " Standard Deviation (Unbiased): 0.38449167246272675\n",
            "\n",
            "Sample 2: \n",
            " Mean: 3.4132392216\n",
            " Standard Deviation (Unbiased): 0.31332457088808335\n"
          ],
          "name": "stdout"
        }
      ]
    },
    {
      "cell_type": "markdown",
      "metadata": {
        "id": "ZMevmouGWAEW",
        "colab_type": "text"
      },
      "source": [
        "# Step 1. Define null and alternative hypotheses"
      ]
    },
    {
      "cell_type": "code",
      "metadata": {
        "id": "RWuMdlc9WCMW",
        "colab_type": "code",
        "colab": {
          "base_uri": "https://localhost:8080/",
          "height": 53
        },
        "outputId": "292154e2-6c4b-415e-edb3-7de989f81837"
      },
      "source": [
        "# H0 : mu_sample1 = mu_sample2\n",
        "print(\"H0: The two samples are from the same population.\")\n",
        "\n",
        "# H1 : mu_sample1 != mu_sample2 \n",
        "print(\"H1: The two samples are significantly different.\")"
      ],
      "execution_count": 13,
      "outputs": [
        {
          "output_type": "stream",
          "text": [
            "H0: The two samples are from the same population.\n",
            "H1: The two samples are significantly different.\n"
          ],
          "name": "stdout"
        }
      ]
    },
    {
      "cell_type": "markdown",
      "metadata": {
        "id": "1I6Y-mEcWKeW",
        "colab_type": "text"
      },
      "source": [
        "# Step 2. Calculate a test statistic"
      ]
    },
    {
      "cell_type": "code",
      "metadata": {
        "id": "-U69ev73WLHO",
        "colab_type": "code",
        "colab": {
          "base_uri": "https://localhost:8080/",
          "height": 35
        },
        "outputId": "12d1782c-4004-463e-957f-926dc0095c68"
      },
      "source": [
        "# t = sample_error / std_error\n",
        "\n",
        "# Sample error = (SampleMean1 - SampleMean2) - (mu1 - mu2)\n",
        "sample_error = sample1_mean - sample2_mean - 0\n",
        "\n",
        "# Standard error of the mean difference\n",
        "df1 = len(sample1)-1\n",
        "df2 = len(sample2)-1\n",
        "pooled_variance = (sample1_std**2*df1 + sample2_std**2*df2) / (df1 + df2)\n",
        "standard_error = np.sqrt(pooled_variance/len(sample1) + pooled_variance/len(sample2))\n",
        "\n",
        "t = sample_error / standard_error\n",
        "\n",
        "print(\"Test statistic t: {}\".format(t))"
      ],
      "execution_count": 14,
      "outputs": [
        {
          "output_type": "stream",
          "text": [
            "Test statistic t: -0.38109317510821544\n"
          ],
          "name": "stdout"
        }
      ]
    },
    {
      "cell_type": "markdown",
      "metadata": {
        "id": "PQjagGpHYA-m",
        "colab_type": "text"
      },
      "source": [
        "# Step 3. Check how likely the test statistic can be obtained."
      ]
    },
    {
      "cell_type": "code",
      "metadata": {
        "id": "FYpgFuAtYBwG",
        "colab_type": "code",
        "colab": {
          "base_uri": "https://localhost:8080/",
          "height": 299
        },
        "outputId": "b3d7edd7-97c7-486c-d30a-cab6ed133ee7"
      },
      "source": [
        "# The t-statistic follows t-distribution.\n",
        "# The t-distribution is described by DF of a sample.\n",
        "t_dist = stats.t(df = df1 + df2 ) \n",
        "x = np.linspace(-10, 10, 100)  \n",
        "y = t_dist.pdf(x)      \n",
        "plt.plot(x, y)  \n",
        "plt.title(\"PDF of a t-distribution\") \n",
        "\n",
        "# Fill the area of the values to be \n",
        "# as extreme as or more extreme than the test statistic. (p-value)\n",
        "right_interval = np.linspace(abs(t), x[-1], 50) \n",
        "left_interval = np.linspace(-x[-1], -abs(t), 50) \n",
        "plt.fill_between( right_interval, t_dist.pdf(right_interval) , color='#e1b1b4', alpha=1)\n",
        "plt.fill_between( left_interval, t_dist.pdf(left_interval) , color='#e1b1b4', alpha=1)"
      ],
      "execution_count": 15,
      "outputs": [
        {
          "output_type": "execute_result",
          "data": {
            "text/plain": [
              "<matplotlib.collections.PolyCollection at 0x7f6bbc3c6240>"
            ]
          },
          "metadata": {
            "tags": []
          },
          "execution_count": 15
        },
        {
          "output_type": "display_data",
          "data": {
            "image/png": "[encoded data removed]",
            "text/plain": [
              "<Figure size 432x288 with 1 Axes>"
            ]
          },
          "metadata": {
            "tags": [],
            "needs_background": "light"
          }
        }
      ]
    },
    {
      "cell_type": "code",
      "metadata": {
        "id": "2Qw_cbOeYX8X",
        "colab_type": "code",
        "colab": {
          "base_uri": "https://localhost:8080/",
          "height": 35
        },
        "outputId": "d1517fee-5dff-4fce-a811-a70e23e5e339"
      },
      "source": [
        "# Calculate the p-value.\n",
        "p, _ = integrate.quad(t_dist.pdf, left_interval[0], left_interval[-1]) #  Arg: function, from_value, to_value \n",
        "p *= 2 # two-tailed\n",
        "\n",
        "print(\"The p-value for this test: {}\".format(p))"
      ],
      "execution_count": 16,
      "outputs": [
        {
          "output_type": "stream",
          "text": [
            "The p-value for this test: 0.7046575222738513\n"
          ],
          "name": "stdout"
        }
      ]
    },
    {
      "cell_type": "code",
      "metadata": {
        "id": "oKIFIuqRYeY-",
        "colab_type": "code",
        "colab": {
          "base_uri": "https://localhost:8080/",
          "height": 35
        },
        "outputId": "789460ee-f0d9-40b2-952b-92789e63e4e5"
      },
      "source": [
        "# Conclusion (Significance level = 5%)\n",
        "if p < 0.05:\n",
        "  print(\"Reject H0: The population mean is not equal to 4.5.\")\n",
        "else:\n",
        "  print(\"Accept H0: The population mean is 4.5.\")"
      ],
      "execution_count": 17,
      "outputs": [
        {
          "output_type": "stream",
          "text": [
            "Accept H0: The population mean is 4.5.\n"
          ],
          "name": "stdout"
        }
      ]
    },
    {
      "cell_type": "markdown",
      "metadata": {
        "id": "P0KV45NRYhRw",
        "colab_type": "text"
      },
      "source": [
        "##### [Additional] You can calculate the p-value by the SF. "
      ]
    },
    {
      "cell_type": "code",
      "metadata": {
        "id": "jRQFUtA8Yhxm",
        "colab_type": "code",
        "colab": {
          "base_uri": "https://localhost:8080/",
          "height": 35
        },
        "outputId": "50240882-6c11-4149-f68c-2b4dee7c2a38"
      },
      "source": [
        "p = t_dist.sf( abs(t) ) * 2\n",
        "print(\"p-value : {0}\".format(p))"
      ],
      "execution_count": 18,
      "outputs": [
        {
          "output_type": "stream",
          "text": [
            "p-value : 0.7046575222739384\n"
          ],
          "name": "stdout"
        }
      ]
    },
    {
      "cell_type": "markdown",
      "metadata": {
        "id": "uefGkE4cYksm",
        "colab_type": "text"
      },
      "source": [
        "##### [Additional] You can use critical values."
      ]
    },
    {
      "cell_type": "code",
      "metadata": {
        "id": "9M1z-7LuYnoG",
        "colab_type": "code",
        "colab": {
          "base_uri": "https://localhost:8080/",
          "height": 35
        },
        "outputId": "41e0e725-6cef-428e-99bf-132b08046e9c"
      },
      "source": [
        "cv = t_dist.ppf(.975)\n",
        "print(\"Critical values (alpha = 0.05): -{0}, {0}\".format(cv))\n",
        "\n",
        "# If the test statistic is beyond the critical values, \n",
        "# we should reject the null hypothesis."
      ],
      "execution_count": 19,
      "outputs": [
        {
          "output_type": "stream",
          "text": [
            "Critical values (alpha = 0.05): -2.0057459935369497, 2.0057459935369497\n"
          ],
          "name": "stdout"
        }
      ]
    },
    {
      "cell_type": "markdown",
      "metadata": {
        "id": "c2bey16EYqZW",
        "colab_type": "text"
      },
      "source": [
        "### Or you can use codes in the 'stats' module.\n"
      ]
    },
    {
      "cell_type": "code",
      "metadata": {
        "id": "LNRtkXWQYq7W",
        "colab_type": "code",
        "colab": {
          "base_uri": "https://localhost:8080/",
          "height": 53
        },
        "outputId": "33d10f6d-798a-46b2-8d21-8a8e0f00a10b"
      },
      "source": [
        "t_, p_ = stats.ttest_ind(sample1, sample2)\n",
        "print(\"Test statistic t: {}\".format(t_))\n",
        "print(\"p-value: {}\".format(p_))"
      ],
      "execution_count": 20,
      "outputs": [
        {
          "output_type": "stream",
          "text": [
            "Test statistic t: -0.38109317510821544\n",
            "p-value: 0.7046575222739384\n"
          ],
          "name": "stdout"
        }
      ]
    },
    {
      "cell_type": "markdown",
      "metadata": {
        "id": "6sDRz3n3YtYu",
        "colab_type": "text"
      },
      "source": [
        "# (Step 4) Calculate the effect size"
      ]
    },
    {
      "cell_type": "code",
      "metadata": {
        "id": "o8z0WCK7Yuau",
        "colab_type": "code",
        "colab": {
          "base_uri": "https://localhost:8080/",
          "height": 35
        },
        "outputId": "b2ab78a0-5755-4cc4-e5ff-d7ed6bd32393"
      },
      "source": [
        "# The effect size for two-sample t-test is cohen's d.\n",
        "# d = | sample_diff_mean - 0 | / pooled_std\n",
        "\n",
        "d = abs(sample1_mean - sample2_mean) / np.sqrt(pooled_variance)\n",
        "\n",
        "print(\"Effect size: {}\".format(d))"
      ],
      "execution_count": 21,
      "outputs": [
        {
          "output_type": "stream",
          "text": [
            "Effect size: 0.10320051967745997\n"
          ],
          "name": "stdout"
        }
      ]
    }
  ]
}