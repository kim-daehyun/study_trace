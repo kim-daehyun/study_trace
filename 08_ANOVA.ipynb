{
  "nbformat": 4,
  "nbformat_minor": 0,
  "metadata": {
    "colab": {
      "name": "08. ANOVA.ipynb",
      "provenance": [],
      "collapsed_sections": [],
      "authorship_tag": "ABX9TyPAp164U4jXb3QPwG+AW+Bk",
      "include_colab_link": true
    },
    "kernelspec": {
      "name": "python3",
      "display_name": "Python 3"
    }
  },
  "cells": [
    {
      "cell_type": "markdown",
      "metadata": {
        "id": "view-in-github",
        "colab_type": "text"
      },
      "source": [
        "<a href=\"https://colab.research.google.com/github/kim-daehyun/study_trace/blob/Computer-Statistics/08_ANOVA.ipynb\" target=\"_parent\"><img src=\"https://colab.research.google.com/assets/colab-badge.svg\" alt=\"Open In Colab\"/></a>"
      ]
    },
    {
      "cell_type": "code",
      "metadata": {
        "id": "_QMER8QMZTYG",
        "colab_type": "code",
        "colab": {}
      },
      "source": [
        "from scipy import stats\n",
        "import numpy as np\n",
        "from scipy import integrate\n",
        "import matplotlib.pyplot as plt\n",
        "%matplotlib inline"
      ],
      "execution_count": 14,
      "outputs": []
    },
    {
      "cell_type": "markdown",
      "metadata": {
        "id": "ydz-Y-ItZuCw",
        "colab_type": "text"
      },
      "source": [
        "# Example"
      ]
    },
    {
      "cell_type": "code",
      "metadata": {
        "id": "SBrsSDaUZuqH",
        "colab_type": "code",
        "colab": {
          "base_uri": "https://localhost:8080/",
          "height": 215
        },
        "outputId": "3b9e2c50-c954-4d09-c382-a83ea6c9a7b7"
      },
      "source": [
        "# Here are three samples.\n",
        "\n",
        "sample1 = [2.70011258, 2.80306698, 1.33683463, 2.37597237, 3.3647054 ,\n",
        "       1.16234416, 2.32761262, 0.20652533, 0.56706787, 1.97381748]\n",
        "\n",
        "sample2 = [ 1.19556442,  2.64022744,  1.85932857, -0.31834151,  0.97331155,\n",
        "        2.86337119,  2.01318237,  2.3431587 ,  1.51902731,  3.70903165]\n",
        "\n",
        "sample3 = [ 2.12712679, -0.0710728 ,  2.5024647 ,  2.77785643,  0.37632828,\n",
        "        1.98134926,  1.50259064,  2.53715971,  1.85045813,  1.38964944]\n",
        "\n",
        "# Calculate the statistics of the samples\n",
        "sample1_mean = np.mean(sample1)\n",
        "sample1_std = np.std(sample1, ddof = 1 )\n",
        "print(\"Sample 1: \")\n",
        "print(\" Mean: {}\".format(sample1_mean))\n",
        "print(\" Standard Deviation (Unbiased): {}\".format(sample1_std))  \n",
        "\n",
        "sample2_mean = np.mean(sample2)\n",
        "sample2_std = np.std(sample2, ddof = 1 )\n",
        "print(\"\\nSample 2: \")\n",
        "print(\" Mean: {}\".format(sample2_mean))\n",
        "print(\" Standard Deviation (Unbiased): {}\".format(sample2_std))  \n",
        "\n",
        "sample3_mean = np.mean(sample3)\n",
        "sample3_std = np.std(sample3, ddof = 1 )\n",
        "print(\"\\nSample 3: \")\n",
        "print(\" Mean: {}\".format(sample3_mean))\n",
        "print(\" Standard Deviation (Unbiased): {}\".format(sample3_std))  \n",
        "\n",
        "# Let's check the significance of the difference among the three."
      ],
      "execution_count": 15,
      "outputs": [
        {
          "output_type": "stream",
          "text": [
            "Sample 1: \n",
            " Mean: 1.8818059420000002\n",
            " Standard Deviation (Unbiased): 1.0284005351286574\n",
            "\n",
            "Sample 2: \n",
            " Mean: 1.8797861689999997\n",
            " Standard Deviation (Unbiased): 1.1243044514744183\n",
            "\n",
            "Sample 3: \n",
            " Mean: 1.6973910579999998\n",
            " Standard Deviation (Unbiased): 0.9318332202443737\n"
          ],
          "name": "stdout"
        }
      ]
    },
    {
      "cell_type": "markdown",
      "metadata": {
        "id": "yQTYM6seaF0f",
        "colab_type": "text"
      },
      "source": [
        "# Assumption of equal variances"
      ]
    },
    {
      "cell_type": "code",
      "metadata": {
        "id": "Iq4h_on7aGiP",
        "colab_type": "code",
        "colab": {
          "base_uri": "https://localhost:8080/",
          "height": 53
        },
        "outputId": "8eba4447-61e7-49b1-8a91-02c61341cc8b"
      },
      "source": [
        "# Perform Levene test for equal variances\n",
        "\n",
        "# H0 : The samples have the same variance.\n",
        "# H1 : The samples do not have the same variance.\n",
        "\n",
        "test_stat, p = stats.levene (sample1, sample2, sample3)\n",
        "print(\"p-value : {}\".format(p))\n",
        "\n",
        "if p < 0.05:\n",
        "  print(\"Reject H0 : The samples do not have the same variance.\")\n",
        "else:\n",
        "  print(\"Accept H0 : The samples have the same variance.\")"
      ],
      "execution_count": 16,
      "outputs": [
        {
          "output_type": "stream",
          "text": [
            "p-value : 0.8461262712229266\n",
            "Accept H0 : The samples have the same variance.\n"
          ],
          "name": "stdout"
        }
      ]
    },
    {
      "cell_type": "markdown",
      "metadata": {
        "id": "xelOKNDiafRv",
        "colab_type": "text"
      },
      "source": [
        "# Step 1. Define null and alternative hypotheses"
      ]
    },
    {
      "cell_type": "code",
      "metadata": {
        "id": "fCWYyHn_akVY",
        "colab_type": "code",
        "colab": {
          "base_uri": "https://localhost:8080/",
          "height": 53
        },
        "outputId": "4b873e25-0b16-481c-ad77-fe883f6939ec"
      },
      "source": [
        "# H0 : mu_sample1 = mu_sample2 = mu_sample3 \n",
        "print(\"H0: All samples are from the same population.\")\n",
        "\n",
        "# H1 : Not (mu_sample1 = mu_sample2 = mu_sample3)\n",
        "print(\"H1: Not all samples are from the same population.\")"
      ],
      "execution_count": 17,
      "outputs": [
        {
          "output_type": "stream",
          "text": [
            "H0: All samples are from the same population.\n",
            "H1: Not all samples are from the same population.\n"
          ],
          "name": "stdout"
        }
      ]
    },
    {
      "cell_type": "markdown",
      "metadata": {
        "id": "vtMDJkEYarRQ",
        "colab_type": "text"
      },
      "source": [
        "# Step 2. Calculate a test statistic"
      ]
    },
    {
      "cell_type": "code",
      "metadata": {
        "id": "6R8Sezh4a31-",
        "colab_type": "code",
        "colab": {
          "base_uri": "https://localhost:8080/",
          "height": 71
        },
        "outputId": "108ab13f-35dc-4068-c1a6-5ab8e55611bf"
      },
      "source": [
        "# F = between_sample variance / within_sample variance\n",
        "\n",
        "# between-sample variance\n",
        "# MS_between\n",
        "grand_mean = np.mean(sample1+sample2+sample3)\n",
        "ss_between = np.sum([len(s) * (np.mean(s) - grand_mean) ** 2  for s in [sample1, sample2, sample3]])\n",
        "df_between = 3 - 1\n",
        "\n",
        "ms_between = ss_between/df_between\n",
        "print(\"MS_between: {}\".format(ms_between))\n",
        "\n",
        "# within-sample variance\n",
        "# MS_within\n",
        "\n",
        "ss_within = np.sum([(v - np.mean(s))**2 for s in [sample1, sample2, sample3] for v in s ])\n",
        "df_within = np.sum( [len(s) - 1 for  s in [sample1, sample2, sample3] ] )\n",
        "\n",
        "ms_within = ss_within/df_within\n",
        "print(\"MS_within: {}\".format(ms_within))\n",
        "\n",
        "F = ms_between / ms_within\n",
        "print(\"Test statistic F: {}\".format(F))"
      ],
      "execution_count": 18,
      "outputs": [
        {
          "output_type": "stream",
          "text": [
            "MS_between: 0.11213484240067906\n",
            "MS_within: 1.0633271035363674\n",
            "Test statistic F: 0.10545658248317553\n"
          ],
          "name": "stdout"
        }
      ]
    },
    {
      "cell_type": "markdown",
      "metadata": {
        "id": "rywBo6aNgxqJ",
        "colab_type": "text"
      },
      "source": [
        "# Step 3. Check how likely the test statistic can be obtained."
      ]
    },
    {
      "cell_type": "code",
      "metadata": {
        "id": "7RgBKVkvg0J_",
        "colab_type": "code",
        "colab": {
          "base_uri": "https://localhost:8080/",
          "height": 299
        },
        "outputId": "e5882bef-9d90-4435-bc4b-bbf6d40c91c2"
      },
      "source": [
        "# The F-statistic follows F-distribution.\n",
        "# The F-distribution is described by DFs of samples.\n",
        "f_dist = stats.f(dfn = df_between, dfd = df_within)\n",
        "x = np.linspace(0, 10, 100)  \n",
        "y = f_dist.pdf(x)      \n",
        "plt.plot(x, y)\n",
        "plt.title(\"PDF of a F-distribution\")   \n",
        "\n",
        "# Fill the area of the values to be \n",
        "# as extreme as or more extreme than the test statistic. (p-value)\n",
        "right_interval = np.linspace(F, x[-1], 50) \n",
        "plt.fill_between( right_interval, f_dist.pdf(right_interval) , color='#e1b1b4', alpha=1)"
      ],
      "execution_count": 19,
      "outputs": [
        {
          "output_type": "execute_result",
          "data": {
            "text/plain": [
              "<matplotlib.collections.PolyCollection at 0x7fbe23b1e438>"
            ]
          },
          "metadata": {
            "tags": []
          },
          "execution_count": 19
        },
        {
          "output_type": "display_data",
          "data": {
            "image/png": "[encoded data removed]",
            "text/plain": [
              "<Figure size 432x288 with 1 Axes>"
            ]
          },
          "metadata": {
            "tags": [],
            "needs_background": "light"
          }
        }
      ]
    },
    {
      "cell_type": "code",
      "metadata": {
        "id": "E9bzypM3l56C",
        "colab_type": "code",
        "colab": {
          "base_uri": "https://localhost:8080/",
          "height": 281
        },
        "outputId": "dc0c087b-7ea9-4963-9f4d-8224f1b0db81"
      },
      "source": [
        "# The F-statistic follows F-distribution.\n",
        "# The F-distribution is described by DF of a sample.\n",
        "F = 3.5546\n",
        "f_dist = stats.f(dfn = 2, dfd = 18) \n",
        "x = np.linspace(0, 10, 100)  \n",
        "y = f_dist.pdf(x)      \n",
        "plt.plot(x, y)  \n",
        "plt.title(\"PDF of a F-distribution\") \n",
        "\n",
        "# Fill the area of the values to be \n",
        "# as extreme as or more extreme than the test statistic. (p-value)\n",
        "right_interval = np.linspace(F, x[-1], 50) \n",
        "plt.fill_between( right_interval, f_dist.pdf(right_interval) , color='#e1b1b4', alpha=1)\n",
        "plt.show()"
      ],
      "execution_count": 20,
      "outputs": [
        {
          "output_type": "display_data",
          "data": {
            "image/png": "[encoded data removed]",
            "text/plain": [
              "<Figure size 432x288 with 1 Axes>"
            ]
          },
          "metadata": {
            "tags": [],
            "needs_background": "light"
          }
        }
      ]
    },
    {
      "cell_type": "code",
      "metadata": {
        "id": "mo3dsc23l8Eg",
        "colab_type": "code",
        "colab": {
          "base_uri": "https://localhost:8080/",
          "height": 35
        },
        "outputId": "5996b149-7f7a-4b06-c0dc-554a11e9f02d"
      },
      "source": [
        "# Calculate the p-value.\n",
        "p, _ = integrate.quad(f_dist.pdf, right_interval[0], right_interval[-1]) #  Arg: function, from_value, to_value \n",
        "\n",
        "print(\"The p-value for this test: {}\".format(p))"
      ],
      "execution_count": 21,
      "outputs": [
        {
          "output_type": "stream",
          "text": [
            "The p-value for this test: 0.04879785889489037\n"
          ],
          "name": "stdout"
        }
      ]
    },
    {
      "cell_type": "code",
      "metadata": {
        "id": "ekF5gB64l9Wo",
        "colab_type": "code",
        "colab": {
          "base_uri": "https://localhost:8080/",
          "height": 35
        },
        "outputId": "d3653f21-12f2-4827-88c9-1a788f56d430"
      },
      "source": [
        "# Conclusion (Significance level = 5%)\n",
        "if p < 0.05:\n",
        "  print(\"Reject H0: Not all samples are from the same population.\")\n",
        "else:\n",
        "  print(\"Accept H0: All samples are from the same population.\")"
      ],
      "execution_count": 22,
      "outputs": [
        {
          "output_type": "stream",
          "text": [
            "Reject H0: Not all samples are from the same population.\n"
          ],
          "name": "stdout"
        }
      ]
    },
    {
      "cell_type": "markdown",
      "metadata": {
        "id": "QGkGzAbAl_Gz",
        "colab_type": "text"
      },
      "source": [
        "##### [Additional] You can calculate the p-value by the SF. "
      ]
    },
    {
      "cell_type": "code",
      "metadata": {
        "id": "G0OgF14CmAV4",
        "colab_type": "code",
        "colab": {
          "base_uri": "https://localhost:8080/",
          "height": 35
        },
        "outputId": "898ae660-c2e9-4e0a-872f-4e8dda85844c"
      },
      "source": [
        "p = f_dist.sf( F )\n",
        "print(\"p-value : {0}\".format(p))"
      ],
      "execution_count": 23,
      "outputs": [
        {
          "output_type": "stream",
          "text": [
            "p-value : 0.049998463974249084\n"
          ],
          "name": "stdout"
        }
      ]
    },
    {
      "cell_type": "markdown",
      "metadata": {
        "id": "AKOzfEzqmC7Y",
        "colab_type": "text"
      },
      "source": [
        "##### [Additional] You can use critical values."
      ]
    },
    {
      "cell_type": "code",
      "metadata": {
        "id": "eUr67p8bmEIp",
        "colab_type": "code",
        "colab": {
          "base_uri": "https://localhost:8080/",
          "height": 35
        },
        "outputId": "d0fe2f2a-e6ff-44ee-f668-6f0210cc39d3"
      },
      "source": [
        "cv = f_dist.ppf(.975)\n",
        "print(\"Critical value (alpha = 0.05): {0}\".format(cv))\n",
        "\n",
        "# If the test statistic is beyond the critical values, \n",
        "# we should reject the null hypothesis."
      ],
      "execution_count": 24,
      "outputs": [
        {
          "output_type": "stream",
          "text": [
            "Critical value (alpha = 0.05): 4.5596717126520065\n"
          ],
          "name": "stdout"
        }
      ]
    },
    {
      "cell_type": "markdown",
      "metadata": {
        "id": "FifEQtKqmFuw",
        "colab_type": "text"
      },
      "source": [
        "### Or you can use codes in the 'stats' module.\n"
      ]
    },
    {
      "cell_type": "code",
      "metadata": {
        "id": "5dK6ADXqmHU4",
        "colab_type": "code",
        "colab": {
          "base_uri": "https://localhost:8080/",
          "height": 53
        },
        "outputId": "aaf82f64-e71f-42b1-94bf-776396f8ca82"
      },
      "source": [
        "F_, p_ = stats.f_oneway(sample1, sample2, sample3)\n",
        "print(\"Test statistic F: {}\".format(F_))\n",
        "print(\"p-value: {}\".format(p_))"
      ],
      "execution_count": 26,
      "outputs": [
        {
          "output_type": "stream",
          "text": [
            "Test statistic F: 0.10545658248317535\n",
            "p-value: 0.9002823678875089\n"
          ],
          "name": "stdout"
        }
      ]
    },
    {
      "cell_type": "markdown",
      "metadata": {
        "id": "NuUICtzamrfQ",
        "colab_type": "text"
      },
      "source": [
        ""
      ]
    },
    {
      "cell_type": "markdown",
      "metadata": {
        "id": "zyGZTsXJmnF4",
        "colab_type": "text"
      },
      "source": [
        "# (Step 4) Calculate the effect size"
      ]
    },
    {
      "cell_type": "code",
      "metadata": {
        "id": "AaEoyo-Zmnso",
        "colab_type": "code",
        "colab": {}
      },
      "source": [
        "# The effect size for one-way ANOVA is Eta squared.\n",
        "# eta^2 = SS_between / (SS_between + SS_within)\n",
        "\n",
        "e = ss_between / (ss_between + ss_within)\n",
        "\n",
        "print(\"Effect size: {}\".format(e))"
      ],
      "execution_count": null,
      "outputs": []
    }
  ]
}