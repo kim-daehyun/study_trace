{
  "nbformat": 4,
  "nbformat_minor": 0,
  "metadata": {
    "colab": {
      "name": "09_Post_hoc_test.ipynb",
      "provenance": [],
      "collapsed_sections": [],
      "authorship_tag": "ABX9TyOPfUfVYryaz+T9+sv8hFpc",
      "include_colab_link": true
    },
    "kernelspec": {
      "name": "python3",
      "display_name": "Python 3"
    }
  },
  "cells": [
    {
      "cell_type": "markdown",
      "metadata": {
        "id": "view-in-github",
        "colab_type": "text"
      },
      "source": [
        "<a href=\"https://colab.research.google.com/github/kim-daehyun/study_trace/blob/Computer-Statistics/09_Post_hoc_test.ipynb\" target=\"_parent\"><img src=\"https://colab.research.google.com/assets/colab-badge.svg\" alt=\"Open In Colab\"/></a>"
      ]
    },
    {
      "cell_type": "code",
      "metadata": {
        "id": "o-_7PfMhm-CK",
        "colab_type": "code",
        "colab": {}
      },
      "source": [
        "from scipy import stats\n",
        "import numpy as np\n",
        "from scipy import integrate\n",
        "import matplotlib.pyplot as plt\n",
        "%matplotlib inline"
      ],
      "execution_count": 2,
      "outputs": []
    },
    {
      "cell_type": "markdown",
      "metadata": {
        "id": "LzYMq2zdnHLY",
        "colab_type": "text"
      },
      "source": [
        "# Example"
      ]
    },
    {
      "cell_type": "code",
      "metadata": {
        "id": "NgptD-oinRqm",
        "colab_type": "code",
        "colab": {
          "base_uri": "https://localhost:8080/",
          "height": 219
        },
        "outputId": "7e25fd49-deba-4721-a517-5485992f0585"
      },
      "source": [
        "# Here are three samples.\n",
        "\n",
        "sample1 = [0.55096287, 0.22400899, 1.79256492, 1.85608953, 1.13302092,\n",
        "       2.08430325, 0.71136165, 1.34041778, 1.17718007, 0.24388244]\n",
        "\n",
        "sample2 = [2.55167552, 2.77434668, 1.86326865, 2.26590668, 0.17180533,\n",
        "       2.80796393, 1.72407804, 1.68187752, 1.57397745, 2.06963091]\n",
        "\n",
        "sample3 = [2.34832421, 1.77090793, 1.78190364, 1.90414222, 2.00439036,\n",
        "       2.43245529, 1.74693876, 2.26420924, 1.91368501, 2.33867732]\n",
        "\n",
        "# Calculate the statistics of the samples\n",
        "sample1_mean = np.mean(sample1)\n",
        "sample1_std = np.std(sample1, ddof = 1 )\n",
        "print(\"Sample 1: \")\n",
        "print(\" Mean: {}\".format(sample1_mean))\n",
        "print(\" Standard Deviation (Unbiased): {}\".format(sample1_std))  \n",
        "\n",
        "sample2_mean = np.mean(sample2)\n",
        "sample2_std = np.std(sample2, ddof = 1 )\n",
        "print(\"\\nSample 2: \")\n",
        "print(\" Mean: {}\".format(sample2_mean))\n",
        "print(\" Standard Deviation (Unbiased): {}\".format(sample2_std))  \n",
        "\n",
        "sample3_mean = np.mean(sample3)\n",
        "sample3_std = np.std(sample3, ddof = 1 )\n",
        "print(\"\\nSample 3: \")\n",
        "print(\" Mean: {}\".format(sample3_mean))\n",
        "print(\" Standard Deviation (Unbiased): {}\".format(sample3_std))  \n",
        "\n",
        "# Let's check the significance of the difference among the three."
      ],
      "execution_count": 3,
      "outputs": [
        {
          "output_type": "stream",
          "text": [
            "Sample 1: \n",
            " Mean: 1.1113792420000002\n",
            " Standard Deviation (Unbiased): 0.6697016316506061\n",
            "\n",
            "Sample 2: \n",
            " Mean: 1.948453071\n",
            " Standard Deviation (Unbiased): 0.7692398561399142\n",
            "\n",
            "Sample 3: \n",
            " Mean: 2.0505633980000004\n",
            " Standard Deviation (Unbiased): 0.2683358317172375\n"
          ],
          "name": "stdout"
        }
      ]
    },
    {
      "cell_type": "markdown",
      "metadata": {
        "id": "QeRNqcNZnYJY",
        "colab_type": "text"
      },
      "source": [
        "# Assumption of equal variances"
      ]
    },
    {
      "cell_type": "code",
      "metadata": {
        "id": "oxvslOJGnYzg",
        "colab_type": "code",
        "colab": {
          "base_uri": "https://localhost:8080/",
          "height": 54
        },
        "outputId": "1a1b2cfb-8436-4e08-faef-f47d1a0154bc"
      },
      "source": [
        "# Perform Levene test for equal variances\n",
        "\n",
        "# H0 : The samples have the same variance.\n",
        "# H1 : The samples do not have the same variance.\n",
        "\n",
        "test_stat, p = stats.levene (sample1, sample2, sample3)\n",
        "print(\"p-value : {}\".format(p))\n",
        "\n",
        "if p < 0.05:\n",
        "  print(\"Reject H0 : The samples do not have the same variance.\")\n",
        "else:\n",
        "  print(\"Accept H0 : The samples have the same variance.\")"
      ],
      "execution_count": 4,
      "outputs": [
        {
          "output_type": "stream",
          "text": [
            "p-value : 0.10980984989109352\n",
            "Accept H0 : The samples have the same variance.\n"
          ],
          "name": "stdout"
        }
      ]
    },
    {
      "cell_type": "markdown",
      "metadata": {
        "id": "F1TQe_j-nn6Z",
        "colab_type": "text"
      },
      "source": [
        "# Step 1. Define null and alternative hypotheses"
      ]
    },
    {
      "cell_type": "code",
      "metadata": {
        "id": "j_EtSJVEnoOg",
        "colab_type": "code",
        "colab": {
          "base_uri": "https://localhost:8080/",
          "height": 54
        },
        "outputId": "d984cb88-91a4-488e-c815-52d72329e96c"
      },
      "source": [
        "# H0 : mu_sample1 = mu_sample2 = mu_sample3 \n",
        "print(\"H0: All samples are from the same population.\")\n",
        "\n",
        "# H1 : Not (mu_sample1 = mu_sample2 = mu_sample3)\n",
        "print(\"H1: Not all samples are from the same population.\")"
      ],
      "execution_count": 5,
      "outputs": [
        {
          "output_type": "stream",
          "text": [
            "H0: All samples are from the same population.\n",
            "H1: Not all samples are from the same population.\n"
          ],
          "name": "stdout"
        }
      ]
    },
    {
      "cell_type": "markdown",
      "metadata": {
        "id": "Xa6HEndEntPh",
        "colab_type": "text"
      },
      "source": [
        "# Step 2. Calculate a test statistic \n",
        "# Step 3. Check how likely the test statistic can be obtained."
      ]
    },
    {
      "cell_type": "code",
      "metadata": {
        "id": "qGBHfhGanuF5",
        "colab_type": "code",
        "colab": {
          "base_uri": "https://localhost:8080/",
          "height": 54
        },
        "outputId": "62d5e969-9d30-4f61-9166-d71efc1cf70b"
      },
      "source": [
        "F, p = stats.f_oneway(sample1, sample2, sample3)\n",
        "print(\"Test statistic F: {}\".format(F))\n",
        "print(\"p-value: {}\".format(p))"
      ],
      "execution_count": 6,
      "outputs": [
        {
          "output_type": "stream",
          "text": [
            "Test statistic F: 7.162096695442243\n",
            "p-value: 0.003196330025556756\n"
          ],
          "name": "stdout"
        }
      ]
    },
    {
      "cell_type": "code",
      "metadata": {
        "id": "K_cGFYz2pSdJ",
        "colab_type": "code",
        "colab": {
          "base_uri": "https://localhost:8080/",
          "height": 35
        },
        "outputId": "7396979b-51d1-4bea-c6db-f37765a74dc6"
      },
      "source": [
        "# Conclusion (Significance level = 5%)\n",
        "if p < 0.05:\n",
        "  print(\"Reject H0: Not all samples are from the same population.\")\n",
        "else:\n",
        "  print(\"Accept H0: All samples are from the same population.\")"
      ],
      "execution_count": 7,
      "outputs": [
        {
          "output_type": "stream",
          "text": [
            "Reject H0: Not all samples are from the same population.\n"
          ],
          "name": "stdout"
        }
      ]
    },
    {
      "cell_type": "markdown",
      "metadata": {
        "id": "RJp_QjsVpW2Y",
        "colab_type": "text"
      },
      "source": [
        "# Post-hoc test"
      ]
    },
    {
      "cell_type": "markdown",
      "metadata": {
        "id": "R3Hpu5xSaiLI",
        "colab_type": "text"
      },
      "source": [
        "### Bonferroni correction"
      ]
    },
    {
      "cell_type": "code",
      "metadata": {
        "id": "l5f8LLpMaIJ6",
        "colab_type": "code",
        "colab": {
          "base_uri": "https://localhost:8080/",
          "height": 219
        },
        "outputId": "e27b966c-b426-418c-8f03-f24165263d84"
      },
      "source": [
        "#Bonferroni correction\n",
        "adj_significance_level = 0.05 / 3\n",
        "print(\"Significance level(Bonferroni correction) : {}\\n\" .format(adj_significance_level))\n",
        "\n",
        "for i, s1 in enumerate([sample1, sample2, sample3]):\n",
        "  for j , s2 in enumerate([sample1, sample2, sample3]):\n",
        "    if j <= i:\n",
        "      continue\n",
        "\n",
        "    t,p = stats.ttest_ind(s1,s2)\n",
        "\n",
        "    print('Sample{} vs Sample{} : t ={:.4f}, p = {:.4f}'.format(i,j,t,p))\n",
        "\n",
        "    if p < adj_significance_level:\n",
        "      print(\"                     Reject H0:Two samples are from the same population.\\n\")\n",
        "    else: \n",
        "      print(\"                     Accept H0: Two samples are not from the same population.\\n\")\n"
      ],
      "execution_count": 8,
      "outputs": [
        {
          "output_type": "stream",
          "text": [
            "Significance level(Bonferroni correction) : 0.016666666666666666\n",
            "\n",
            "Sample0 vs Sample1 : t =-2.5954, p = 0.0183\n",
            "                     Accept H0: Two samples are not from the same population.\n",
            "\n",
            "Sample0 vs Sample2 : t =-4.1166, p = 0.0006\n",
            "                     Reject H0:Two samples are from the same population.\n",
            "\n",
            "Sample1 vs Sample2 : t =-0.3963, p = 0.6965\n",
            "                     Accept H0: Two samples are not from the same population.\n",
            "\n"
          ],
          "name": "stdout"
        }
      ]
    },
    {
      "cell_type": "markdown",
      "metadata": {
        "id": "_RL0cnL2DjUc",
        "colab_type": "text"
      },
      "source": [
        "### Dunn Test"
      ]
    },
    {
      "cell_type": "code",
      "metadata": {
        "id": "Kj0-p74YDnmT",
        "colab_type": "code",
        "colab": {
          "base_uri": "https://localhost:8080/",
          "height": 164
        },
        "outputId": "949cee56-7908-4c5c-b51e-acd0d10d2082"
      },
      "source": [
        "from statsmodels.stats.multicomp import pairwise_tukeyhsd\n",
        "\n",
        "all_values = sample1 + sample2 + sample3\n",
        "\n",
        "sample_ids = [1]*len(sample1) + [2]*len(sample2) + [3]*len(sample3)\n",
        "\n",
        "print(pairwise_tukeyhsd( all_values, sample_ids))"
      ],
      "execution_count": 9,
      "outputs": [
        {
          "output_type": "stream",
          "text": [
            "Multiple Comparison of Means - Tukey HSD, FWER=0.05\n",
            "===================================================\n",
            "group1 group2 meandiff p-adj   lower  upper  reject\n",
            "---------------------------------------------------\n",
            "     1      2   0.8371 0.0128   0.162 1.5121   True\n",
            "     1      3   0.9392 0.0051  0.2642 1.6142   True\n",
            "     2      3   0.1021    0.9 -0.5729 0.7771  False\n",
            "---------------------------------------------------\n"
          ],
          "name": "stdout"
        }
      ]
    }
  ]
}