{
  "nbformat": 4,
  "nbformat_minor": 0,
  "metadata": {
    "colab": {
      "name": "11_Chi_square_test_for_goodness_of_fit.ipynb",
      "provenance": [],
      "collapsed_sections": [],
      "authorship_tag": "ABX9TyPiAWju3JcjaK/FdTejFn2S",
      "include_colab_link": true
    },
    "kernelspec": {
      "name": "python3",
      "display_name": "Python 3"
    }
  },
  "cells": [
    {
      "cell_type": "markdown",
      "metadata": {
        "id": "view-in-github",
        "colab_type": "text"
      },
      "source": [
        "<a href=\"https://colab.research.google.com/github/kim-daehyun/study_trace/blob/Computer-Statistics/11_Chi_square_test_for_goodness_of_fit.ipynb\" target=\"_parent\"><img src=\"https://colab.research.google.com/assets/colab-badge.svg\" alt=\"Open In Colab\"/></a>"
      ]
    },
    {
      "cell_type": "code",
      "metadata": {
        "id": "kTuUviLOu7oP",
        "colab_type": "code",
        "colab": {}
      },
      "source": [
        "%matplotlib inline\n",
        "from scipy import stats\n",
        "import numpy as np\n",
        "from scipy import integrate\n",
        "import matplotlib.pyplot as plt"
      ],
      "execution_count": 8,
      "outputs": []
    },
    {
      "cell_type": "markdown",
      "metadata": {
        "id": "jyZbM4uZwZSB",
        "colab_type": "text"
      },
      "source": [
        "# Example"
      ]
    },
    {
      "cell_type": "code",
      "metadata": {
        "id": "haPPsEeswblA",
        "colab_type": "code",
        "colab": {}
      },
      "source": [
        "# You have assumed the populations as followings:\n",
        "# Category A : 20%\n",
        "# Category B : 50%\n",
        "# Category C : 30%\n",
        "h0_prop = [ 0.2, 0.5, 0.3]\n",
        "\n",
        "# Now, you have a sample with 500 values as followings:\n",
        "# Category A : 120\n",
        "# Category B : 270\n",
        "# Category C : 110\n",
        "n = 500\n",
        "sample_freq = [ 120, 270, 110]\n",
        "\n",
        "# Now, you want to test if the sample shows your current assumption is still valid.\n",
        "\n",
        "# Let's check the significance of the difference by the chi-squre test for goodness of fit."
      ],
      "execution_count": 9,
      "outputs": []
    },
    {
      "cell_type": "markdown",
      "metadata": {
        "id": "vcQo6HyEy9Hv",
        "colab_type": "text"
      },
      "source": [
        "# Step 1. Define null and alternative hypotheses"
      ]
    },
    {
      "cell_type": "code",
      "metadata": {
        "id": "TuCGxDggy9co",
        "colab_type": "code",
        "colab": {
          "base_uri": "https://localhost:8080/",
          "height": 55
        },
        "outputId": "375bc049-7d1c-4036-c8f8-232697917b22"
      },
      "source": [
        "# H0\n",
        "print(\"H0: The data meets the expected distribution.\")\n",
        "\n",
        "# H1\n",
        "print(\"H1: The data does not meet the expected distribution.\")"
      ],
      "execution_count": 10,
      "outputs": [
        {
          "output_type": "stream",
          "text": [
            "H0: The data meets the expected distribution.\n",
            "H1: The data does not meet the expected distribution.\n"
          ],
          "name": "stdout"
        }
      ]
    },
    {
      "cell_type": "markdown",
      "metadata": {
        "id": "FO5ZLfQKzB4x",
        "colab_type": "text"
      },
      "source": [
        "# Step 2. Calculate a test statistic"
      ]
    },
    {
      "cell_type": "code",
      "metadata": {
        "id": "LX4eFkr941BS",
        "colab_type": "code",
        "colab": {
          "base_uri": "https://localhost:8080/",
          "height": 36
        },
        "outputId": "d93a18e0-fa88-4bc2-db14-27f1d87c2e57"
      },
      "source": [
        "# Chi-squre test statistic\n",
        "#    = sum of (observation - expectation)^2 / expectation\n",
        "\n",
        "# Expectation for a category\n",
        "expect_freq = [500 * n for n in h0_prop]\n",
        "\n",
        "chi2 = np.sum([ (obs - expect)**2 / expect for obs, expect in zip(sample_freq, expect_freq)  ])\n",
        "\n",
        "print(\"Test statistic Chi-Square : {}\".format(chi2))"
      ],
      "execution_count": 16,
      "outputs": [
        {
          "output_type": "stream",
          "text": [
            "Test statistic Chi-Square : 16.266666666666666\n"
          ],
          "name": "stdout"
        }
      ]
    },
    {
      "cell_type": "markdown",
      "metadata": {
        "id": "Q5sBhx8j7tXs",
        "colab_type": "text"
      },
      "source": [
        "# Step 3. Check how likely the test statistic can be obtained."
      ]
    },
    {
      "cell_type": "code",
      "metadata": {
        "id": "Uj8sLqj97uAC",
        "colab_type": "code",
        "colab": {
          "base_uri": "https://localhost:8080/",
          "height": 281
        },
        "outputId": "eebb1850-588c-4b15-c25f-d2587196fa7b"
      },
      "source": [
        "# the chi2 statistic follows chi2 distribution.\n",
        "chi2_dist = stats.chi2(df = len(sample_freq)- 1)\n",
        "x = np.linspace(0, 20, 100)\n",
        "y = chi2_dist.pdf(x)\n",
        "plt.plot(x,y)\n",
        "plt.title(\"PDF of a chi-squre distribution\")\n",
        "\n",
        "# Fill the area of the values to be \n",
        "# as extreme as or more extreme than the test statistic. (p-value)\n",
        "right_interval = np.linspace(chi2, x[-1], 50)\n",
        "plt.fill_between(right_interval, chi2_dist.pdf(right_interval), color='#e1b1b4', alpha=1)\n",
        "plt.show()\n"
      ],
      "execution_count": 18,
      "outputs": [
        {
          "output_type": "display_data",
          "data": {
            "image/png": "[encoded data removed]",
            "text/plain": [
              "<Figure size 432x288 with 1 Axes>"
            ]
          },
          "metadata": {
            "tags": [],
            "needs_background": "light"
          }
        }
      ]
    },
    {
      "cell_type": "code",
      "metadata": {
        "id": "mt3JbOKz9GuL",
        "colab_type": "code",
        "colab": {
          "base_uri": "https://localhost:8080/",
          "height": 36
        },
        "outputId": "bfc94786-2bb1-4615-e9d8-b98516b6b68b"
      },
      "source": [
        "# Calculate the p-value.\n",
        "p, _  = integrate.quad(chi2_dist.pdf, right_interval[0], right_interval[-1])\n",
        "\n",
        "print(\"p-value : {}\".format(p))"
      ],
      "execution_count": 20,
      "outputs": [
        {
          "output_type": "stream",
          "text": [
            "p-value : 0.00024818801171382586\n"
          ],
          "name": "stdout"
        }
      ]
    },
    {
      "cell_type": "code",
      "metadata": {
        "id": "skglzQDu9xGj",
        "colab_type": "code",
        "colab": {
          "base_uri": "https://localhost:8080/",
          "height": 36
        },
        "outputId": "232b313d-9349-4427-dfec-3c92b749cd97"
      },
      "source": [
        "# Conclusion (Significance level = 5%)\n",
        "if p < 0.05:\n",
        "  print(\"Reject H0: The data does not meet the expected distribution.\")\n",
        "else:\n",
        "  print(\"Accept H0: The data meets the expected distribution.\")"
      ],
      "execution_count": 21,
      "outputs": [
        {
          "output_type": "stream",
          "text": [
            "Reject H0: The data does not meet the expected distribution.\n"
          ],
          "name": "stdout"
        }
      ]
    },
    {
      "cell_type": "markdown",
      "metadata": {
        "id": "3V-TrFQD-L4n",
        "colab_type": "text"
      },
      "source": [
        "##### [Additional] You can calculate the p-value by the SF. "
      ]
    },
    {
      "cell_type": "code",
      "metadata": {
        "id": "ec_lRuIl-Mhp",
        "colab_type": "code",
        "colab": {
          "base_uri": "https://localhost:8080/",
          "height": 36
        },
        "outputId": "e8ce3b84-c98f-44d7-c5ff-b62e33593994"
      },
      "source": [
        "p = chi2_dist.sf( chi2 )    # chi2 =  16.266666666666666\n",
        "print(\"p-value : {0}\".format(p))  #sf : 입력한 값이 상위 몇 퍼센테이지 인가???"
      ],
      "execution_count": 22,
      "outputs": [
        {
          "output_type": "stream",
          "text": [
            "p-value : 0.00029358794147631064\n"
          ],
          "name": "stdout"
        }
      ]
    },
    {
      "cell_type": "markdown",
      "metadata": {
        "id": "XyWrz0NG-51b",
        "colab_type": "text"
      },
      "source": [
        "##### [Additional] You can use critical values."
      ]
    },
    {
      "cell_type": "code",
      "metadata": {
        "id": "znEK3MPa-6RT",
        "colab_type": "code",
        "colab": {
          "base_uri": "https://localhost:8080/",
          "height": 36
        },
        "outputId": "72487b00-6a1b-4d26-9e28-7c1e8f2cbda5"
      },
      "source": [
        "cv = chi2_dist.ppf(.950) #ppf : 입력한 값에 대한 상위 퍼센페이지를 숫자로 ㄱㄱ(비례함) \n",
        "print(\"Critical values (alpha = 0.05): -{0}, {0}\".format(cv)) \n",
        "\n",
        "# If the test statistic is beyond the critical values, \n",
        "# we should reject the null hypothesis."
      ],
      "execution_count": 23,
      "outputs": [
        {
          "output_type": "stream",
          "text": [
            "Critical values (alpha = 0.05): -5.991464547107979, 5.991464547107979\n"
          ],
          "name": "stdout"
        }
      ]
    },
    {
      "cell_type": "markdown",
      "metadata": {
        "id": "qzK6BVGH_jW6",
        "colab_type": "text"
      },
      "source": [
        "### Or you can use the codes in the stats module."
      ]
    },
    {
      "cell_type": "code",
      "metadata": {
        "id": "kG-hiSZ7_j76",
        "colab_type": "code",
        "colab": {
          "base_uri": "https://localhost:8080/",
          "height": 55
        },
        "outputId": "8ad3432d-416d-47d3-8f57-39b15e3b3678"
      },
      "source": [
        "chi2_, p_ = stats.chisquare(sample_freq, expect_freq)\n",
        "print(\"Test statistic chi2: {}\".format(chi2_))\n",
        "print(\"p-value: {}\".format(p_))"
      ],
      "execution_count": 24,
      "outputs": [
        {
          "output_type": "stream",
          "text": [
            "Test statistic chi2: 16.266666666666666\n",
            "p-value: 0.00029358794147631064\n"
          ],
          "name": "stdout"
        }
      ]
    },
    {
      "cell_type": "markdown",
      "metadata": {
        "id": "_JxN0taO_nnq",
        "colab_type": "text"
      },
      "source": [
        "# (Step 4) Calculate the effect size"
      ]
    },
    {
      "cell_type": "code",
      "metadata": {
        "id": "jZwuvRTJ_pJS",
        "colab_type": "code",
        "colab": {
          "base_uri": "https://localhost:8080/",
          "height": 36
        },
        "outputId": "89a76c5b-d5aa-4fcf-8a30-bc170832a475"
      },
      "source": [
        "# The effect size for one-sample t-test is Cramer's V.\n",
        "# V = sqrt (chi2 / (n_total * df_category) ) \n",
        "\n",
        "V = np.sqrt(chi2 / (np.sum(sample_freq) * (len(sample_freq)-1) ))\n",
        "\n",
        "print(\"Effect size: {}\".format(V))"
      ],
      "execution_count": 25,
      "outputs": [
        {
          "output_type": "stream",
          "text": [
            "Effect size: 0.12754084313139327\n"
          ],
          "name": "stdout"
        }
      ]
    }
  ]
}