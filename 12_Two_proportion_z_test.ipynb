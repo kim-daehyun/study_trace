{
  "nbformat": 4,
  "nbformat_minor": 0,
  "metadata": {
    "colab": {
      "name": "12_Two_proportion_z_test.ipynb",
      "provenance": [],
      "collapsed_sections": [],
      "authorship_tag": "ABX9TyPjCuAbnx+YfNFfRzyyrTCd",
      "include_colab_link": true
    },
    "kernelspec": {
      "name": "python3",
      "display_name": "Python 3"
    }
  },
  "cells": [
    {
      "cell_type": "markdown",
      "metadata": {
        "id": "view-in-github",
        "colab_type": "text"
      },
      "source": [
        "<a href=\"https://colab.research.google.com/github/kim-daehyun/study_trace/blob/Computer-Statistics/12_Two_proportion_z_test.ipynb\" target=\"_parent\"><img src=\"https://colab.research.google.com/assets/colab-badge.svg\" alt=\"Open In Colab\"/></a>"
      ]
    },
    {
      "cell_type": "code",
      "metadata": {
        "id": "TsmDVUxA_6_E",
        "colab_type": "code",
        "colab": {}
      },
      "source": [
        "from scipy import stats\n",
        "import numpy as np\n",
        "from scipy import integrate\n",
        "import matplotlib.pyplot as plt\n",
        "%matplotlib inline"
      ],
      "execution_count": 1,
      "outputs": []
    },
    {
      "cell_type": "markdown",
      "metadata": {
        "id": "vnH4QUL7BGWE",
        "colab_type": "text"
      },
      "source": [
        "# Example"
      ]
    },
    {
      "cell_type": "code",
      "metadata": {
        "id": "BrIDgdBSBJ0K",
        "colab_type": "code",
        "colab": {}
      },
      "source": [
        "# Here are two sample proportions with a size of 300 for each.\n",
        "\n",
        "sample1_prop = 0.34\n",
        "sample2_prop = 0.38\n",
        "\n",
        "# Let's check the significance of the difference by the two-proportion z-test."
      ],
      "execution_count": 2,
      "outputs": []
    },
    {
      "cell_type": "markdown",
      "metadata": {
        "id": "MlaIvkU6BQTq",
        "colab_type": "text"
      },
      "source": [
        "# Step 1. Define null and alternative hypotheses"
      ]
    },
    {
      "cell_type": "code",
      "metadata": {
        "id": "CP4Gwht9BSXL",
        "colab_type": "code",
        "colab": {
          "base_uri": "https://localhost:8080/",
          "height": 55
        },
        "outputId": "051d83f5-ac59-4071-a4b8-5a10ecddbbc5"
      },
      "source": [
        "# H0 : p_sample1 = p_sample2\n",
        "print(\"H0: The two samples are from the same population.\")\n",
        "\n",
        "# H1 : p_sample1 != p_sample2 \n",
        "print(\"H1: The two samples are significantly different.\")"
      ],
      "execution_count": 3,
      "outputs": [
        {
          "output_type": "stream",
          "text": [
            "H0: The two samples are from the same population.\n",
            "H1: The two samples are significantly different.\n"
          ],
          "name": "stdout"
        }
      ]
    },
    {
      "cell_type": "markdown",
      "metadata": {
        "id": "_3F8ugpdBV1D",
        "colab_type": "text"
      },
      "source": [
        "# Step 2. Calculate a test statistic"
      ]
    },
    {
      "cell_type": "code",
      "metadata": {
        "id": "2Pqe9aGNBbTj",
        "colab_type": "code",
        "colab": {
          "base_uri": "https://localhost:8080/",
          "height": 36
        },
        "outputId": "61d1893d-493d-435e-bb2a-fd4406bdfbc4"
      },
      "source": [
        "# z = sample_error / std_error\n",
        "\n",
        "# Sample error = (SampleProp1 - SampleProp2) - (mu1 - mu2)\n",
        "sample_error = sample1_prop - sample2_prop - 0\n",
        "\n",
        "# Standard error of the mean difference\n",
        "#  = sqrt( pooled_prop * (1 - pooled_prop)) * np.sqrt( 1/n1 + 1/n2)\n",
        "\n",
        "# Poopled proportion = (freq1 + freq2) /(n1 + n2)\n",
        "pooled_prop = (200*sample1_prop + 200*sample2_prop) / (200 + 200)\n",
        "standard_error = np.sqrt( pooled_prop * (1 - pooled_prop)) * np.sqrt( 1/200 + 1/200)\n",
        "\n",
        "z = sample_error / standard_error\n",
        "\n",
        "print(\"Test statistic z: {}\".format(z))"
      ],
      "execution_count": 4,
      "outputs": [
        {
          "output_type": "stream",
          "text": [
            "Test statistic z: -0.8333333333333329\n"
          ],
          "name": "stdout"
        }
      ]
    },
    {
      "cell_type": "markdown",
      "metadata": {
        "id": "eBUPxBF4HayC",
        "colab_type": "text"
      },
      "source": [
        "# Step 3. Check how likely the test statistic can be obtained."
      ]
    },
    {
      "cell_type": "code",
      "metadata": {
        "id": "JUET4uTpHdW7",
        "colab_type": "code",
        "colab": {
          "base_uri": "https://localhost:8080/",
          "height": 300
        },
        "outputId": "a2cd6449-1e1b-4ae4-b174-9bc00629a798"
      },
      "source": [
        "# The z-statistic follows z-distribution.\n",
        "z_dist = stats.norm(0,1)\n",
        "x = np.linspace(-10,10,100)\n",
        "y = z_dist.pdf(x)\n",
        "plt.plot(x,y)\n",
        "plt.title(\"PDF of a z-distribution\")\n",
        "\n",
        "# Fill the area of the values to be \n",
        "# as extreme as or more extreme than the test statistic. (p-value)\n",
        "right_interval = np.linspace(abs(z), x[-1], 50) \n",
        "left_interval = np.linspace(-x[-1], -abs(z), 50) \n",
        "plt.fill_between( right_interval, z_dist.pdf(right_interval) , color='#e1b1b4', alpha=1)\n",
        "plt.fill_between( left_interval, z_dist.pdf(left_interval) , color='#e1b1b4', alpha=1)"
      ],
      "execution_count": 5,
      "outputs": [
        {
          "output_type": "execute_result",
          "data": {
            "text/plain": [
              "<matplotlib.collections.PolyCollection at 0x7f4644bcdac8>"
            ]
          },
          "metadata": {
            "tags": []
          },
          "execution_count": 5
        },
        {
          "output_type": "display_data",
          "data": {
            "image/png": "[encoded data removed]",
            "text/plain": [
              "<Figure size 432x288 with 1 Axes>"
            ]
          },
          "metadata": {
            "tags": [],
            "needs_background": "light"
          }
        }
      ]
    },
    {
      "cell_type": "code",
      "metadata": {
        "id": "IgRJyNF2LLnk",
        "colab_type": "code",
        "colab": {
          "base_uri": "https://localhost:8080/",
          "height": 36
        },
        "outputId": "f2839433-5b36-49b8-c3bd-7d987caedadb"
      },
      "source": [
        "# Calculate the p-value.\n",
        "p, _ = integrate.quad(z_dist.pdf, left_interval[0], left_interval[-1]) #  Arg: function, from_value, to_value \n",
        "p *= 2 # two-tailed\n",
        "\n",
        "print(\"The p-value for this test: {}\".format(p))"
      ],
      "execution_count": 6,
      "outputs": [
        {
          "output_type": "stream",
          "text": [
            "The p-value for this test: 0.4046567619272863\n"
          ],
          "name": "stdout"
        }
      ]
    },
    {
      "cell_type": "code",
      "metadata": {
        "id": "df4HjtOBLPy0",
        "colab_type": "code",
        "colab": {
          "base_uri": "https://localhost:8080/",
          "height": 36
        },
        "outputId": "dce1a25a-1404-468f-f6e2-efe29d7a423d"
      },
      "source": [
        "# Conclusion (Significance level = 5%)\n",
        "if p < 0.05:\n",
        "  print(\"Reject H0: The two samples are not from the same population.\")\n",
        "else:\n",
        "  print(\"Accept H0: The two samples are from the same population.\")"
      ],
      "execution_count": 7,
      "outputs": [
        {
          "output_type": "stream",
          "text": [
            "Accept H0: The two samples are from the same population.\n"
          ],
          "name": "stdout"
        }
      ]
    },
    {
      "cell_type": "markdown",
      "metadata": {
        "id": "ocBjKZCVLUj9",
        "colab_type": "text"
      },
      "source": [
        "##### [Additional] You can calculate the p-value by the SF."
      ]
    },
    {
      "cell_type": "code",
      "metadata": {
        "id": "Xeppcx44LWMr",
        "colab_type": "code",
        "colab": {
          "base_uri": "https://localhost:8080/",
          "height": 36
        },
        "outputId": "f19858f5-b25d-41bf-fb43-a6ed44525057"
      },
      "source": [
        "p = z_dist.sf( abs(z) ) * 2\n",
        "print(\"p-value : {0}\".format(p))"
      ],
      "execution_count": 8,
      "outputs": [
        {
          "output_type": "stream",
          "text": [
            "p-value : 0.40465676192728617\n"
          ],
          "name": "stdout"
        }
      ]
    },
    {
      "cell_type": "markdown",
      "metadata": {
        "id": "f7LVUWnvLZLW",
        "colab_type": "text"
      },
      "source": [
        "##### [Additional] You can use critical values."
      ]
    },
    {
      "cell_type": "code",
      "metadata": {
        "id": "LbRTuBjBLcnj",
        "colab_type": "code",
        "colab": {
          "base_uri": "https://localhost:8080/",
          "height": 36
        },
        "outputId": "64c596be-ed00-42f4-8b3b-dd4d318b676b"
      },
      "source": [
        "cv = z_dist.ppf(.975)\n",
        "print(\"Critical values (alpha = 0.05): -{0}, {0}\".format(cv))\n",
        "\n",
        "# If the test statistic is beyond the critical values, \n",
        "# we should reject the null hypothesis."
      ],
      "execution_count": 9,
      "outputs": [
        {
          "output_type": "stream",
          "text": [
            "Critical values (alpha = 0.05): -1.959963984540054, 1.959963984540054\n"
          ],
          "name": "stdout"
        }
      ]
    },
    {
      "cell_type": "markdown",
      "metadata": {
        "id": "NWgcsjmQLhbL",
        "colab_type": "text"
      },
      "source": [
        "# (Step 4) Calculate the effect size"
      ]
    },
    {
      "cell_type": "code",
      "metadata": {
        "id": "D48R9GOQLleb",
        "colab_type": "code",
        "colab": {
          "base_uri": "https://localhost:8080/",
          "height": 36
        },
        "outputId": "5d88e1bb-8621-4591-e262-24f907f68db5"
      },
      "source": [
        "# The effect size for two-sample z-test is cohen's d.\n",
        "# d = | sample_diff_mean - 0 | / pooled_std\n",
        "\n",
        "d = abs(sample1_prop - sample2_prop) / np.sqrt(pooled_prop*(1-pooled_prop))\n",
        "\n",
        "print(\"Effect size: {}\".format(d))"
      ],
      "execution_count": 10,
      "outputs": [
        {
          "output_type": "stream",
          "text": [
            "Effect size: 0.0833333333333333\n"
          ],
          "name": "stdout"
        }
      ]
    }
  ]
}