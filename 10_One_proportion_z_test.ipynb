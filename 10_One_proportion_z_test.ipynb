{
  "nbformat": 4,
  "nbformat_minor": 0,
  "metadata": {
    "colab": {
      "name": "10_One_proportion_z_test.ipynb",
      "provenance": [],
      "collapsed_sections": [],
      "authorship_tag": "ABX9TyOYTTXTu2RGFaJrQhFGP91Y",
      "include_colab_link": true
    },
    "kernelspec": {
      "name": "python3",
      "display_name": "Python 3"
    }
  },
  "cells": [
    {
      "cell_type": "markdown",
      "metadata": {
        "id": "view-in-github",
        "colab_type": "text"
      },
      "source": [
        "<a href=\"https://colab.research.google.com/github/kim-daehyun/study_trace/blob/Computer-Statistics/10_One_proportion_z_test.ipynb\" target=\"_parent\"><img src=\"https://colab.research.google.com/assets/colab-badge.svg\" alt=\"Open In Colab\"/></a>"
      ]
    },
    {
      "cell_type": "code",
      "metadata": {
        "id": "1QalyeJHCThV",
        "colab_type": "code",
        "colab": {}
      },
      "source": [
        "%matplotlib inline\n",
        "from scipy import stats\n",
        "import numpy as np\n",
        "from scipy import integrate\n",
        "import matplotlib.pyplot as plt"
      ],
      "execution_count": 7,
      "outputs": []
    },
    {
      "cell_type": "markdown",
      "metadata": {
        "id": "64C3SIsPk_l2",
        "colab_type": "text"
      },
      "source": [
        "# Example"
      ]
    },
    {
      "cell_type": "code",
      "metadata": {
        "id": "nH1urlLZlM8M",
        "colab_type": "code",
        "colab": {}
      },
      "source": [
        ""
      ],
      "execution_count": null,
      "outputs": []
    },
    {
      "cell_type": "code",
      "metadata": {
        "id": "gugEOXprbF4o",
        "colab_type": "code",
        "colab": {
          "base_uri": "https://localhost:8080/",
          "height": 36
        },
        "outputId": "fd3707ad-37e6-4b01-80d5-961a2f4a59aa"
      },
      "source": [
        "# You have assumed the population of the data to be in Category A is 0.3.\n",
        "\n",
        "# And, here is a sample. In this sample, each data point has a value of 1,\n",
        "# if it is in Category A. Otherwise, it has 0. \n",
        "\n",
        "# Now, you want to test if the sample shows your current assumption is still valid.\n",
        "sample = [1,0, 0, 1, 0, 1, 0, 0, 1, 0, 0, 0, 1, 0, 0, \n",
        "          1, 0, 1, 1, 0, 0, 1, 1, 1, 1, 0, 1, 0, 1, 0]\n",
        "\n",
        "# Calculate the sample statistics\n",
        "sample_proportion = np.mean(sample)\n",
        "print(\"Proportion: {}\".format(sample_proportion))\n",
        "\n",
        "# Let's check the significance of the difference by the one-proportion z-test."
      ],
      "execution_count": 2,
      "outputs": [
        {
          "output_type": "stream",
          "text": [
            "Proportion: 0.4666666666666667\n"
          ],
          "name": "stdout"
        }
      ]
    },
    {
      "cell_type": "markdown",
      "metadata": {
        "id": "5VPtbupalYlO",
        "colab_type": "text"
      },
      "source": [
        "# Step 1. Define null and alternative hypotheses"
      ]
    },
    {
      "cell_type": "code",
      "metadata": {
        "id": "b6ohH-TElZsO",
        "colab_type": "code",
        "colab": {
          "base_uri": "https://localhost:8080/",
          "height": 55
        },
        "outputId": "90794c9f-0019-4533-c826-10a6921f2171"
      },
      "source": [
        "# H0 : mu = 0.3\n",
        "print(\"H0: The population proportion is 0.3.\")\n",
        "\n",
        "# H1 : mu != 0.3\n",
        "print(\"H1: The population proportion is not equal to 0.3.\")"
      ],
      "execution_count": 3,
      "outputs": [
        {
          "output_type": "stream",
          "text": [
            "H0: The population proportion is 0.3.\n",
            "H1: The population proportion is not equal to 0.3.\n"
          ],
          "name": "stdout"
        }
      ]
    },
    {
      "cell_type": "markdown",
      "metadata": {
        "id": "XBAeXtRBlgxX",
        "colab_type": "text"
      },
      "source": [
        "# Step 2. Calculate a test statistic"
      ]
    },
    {
      "cell_type": "code",
      "metadata": {
        "id": "lVUVPMKUlkPv",
        "colab_type": "code",
        "colab": {
          "base_uri": "https://localhost:8080/",
          "height": 36
        },
        "outputId": "4f851c0a-96b5-4dfd-bdee-81929285fd4f"
      },
      "source": [
        "# z = Sample error/std_error\n",
        "\n",
        "sample_error = sample_proportion - 0.3\n",
        "\n",
        "# std_error = sigma / sqrt(n)\n",
        "# sigma = sqrt(prop * (1-prop))\n",
        "\n",
        "standard_error = np.sqrt(0.3*0.7) / np.sqrt(len(sample))\n",
        "\n",
        "z = sample_error / standard_error\n",
        "\n",
        "print(\"Test statistic z : {}\".format(z))"
      ],
      "execution_count": 5,
      "outputs": [
        {
          "output_type": "stream",
          "text": [
            "Test statistic z : 1.9920476822239896\n"
          ],
          "name": "stdout"
        }
      ]
    },
    {
      "cell_type": "markdown",
      "metadata": {
        "id": "8hFapVvln8HQ",
        "colab_type": "text"
      },
      "source": [
        "# Step 3. Check how likely the test statistic can be obtained."
      ]
    },
    {
      "cell_type": "code",
      "metadata": {
        "id": "eD6_782dn85e",
        "colab_type": "code",
        "colab": {
          "base_uri": "https://localhost:8080/",
          "height": 300
        },
        "outputId": "930ca653-2657-4a61-9919-742f41a3327a"
      },
      "source": [
        "z_dist = stats.norm(loc=0, scale=1)\n",
        "x = np.linspace(-10,10,100)\n",
        "y = z_dist.pdf(x)\n",
        "plt.plot(x,y)\n",
        "plt.title(\"PDF of a normal distribution\")\n",
        "\n",
        "# Fill the area of the values to be \n",
        "# as extreme as or more extreme than the test statistic. (p-value)\n",
        "right_interval = np.linspace(abs(z), x[-1], 50)\n",
        "left_interval = np.linspace(-x[-1], -abs(z) , 50)\n",
        "plt.fill_between(right_interval, z_dist.pdf(right_interval), color = '#e1b1b4', alpha = 1)\n",
        "plt.fill_between(left_interval, z_dist.pdf(left_interval), color = '#e1b1b4', alpha = 1)"
      ],
      "execution_count": 9,
      "outputs": [
        {
          "output_type": "execute_result",
          "data": {
            "text/plain": [
              "<matplotlib.collections.PolyCollection at 0x7fe70c9ccba8>"
            ]
          },
          "metadata": {
            "tags": []
          },
          "execution_count": 9
        },
        {
          "output_type": "display_data",
          "data": {
            "image/png": "[encoded data removed]",
            "text/plain": [
              "<Figure size 432x288 with 1 Axes>"
            ]
          },
          "metadata": {
            "tags": [],
            "needs_background": "light"
          }
        }
      ]
    },
    {
      "cell_type": "code",
      "metadata": {
        "id": "6-bq1hoRoVMW",
        "colab_type": "code",
        "colab": {
          "base_uri": "https://localhost:8080/",
          "height": 36
        },
        "outputId": "b839827e-0a32-4ca1-9f12-58ae750d0e8b"
      },
      "source": [
        "# Calculate the p-value.\n",
        "p, _ = integrate.quad(z_dist.pdf, left_interval[0],  left_interval[-1])\n",
        "p *= 2\n",
        "\n",
        "print('The p-value for this test : {}'.format(p))\n"
      ],
      "execution_count": 11,
      "outputs": [
        {
          "output_type": "stream",
          "text": [
            "The p-value for this test : 0.046365826437845016\n"
          ],
          "name": "stdout"
        }
      ]
    },
    {
      "cell_type": "code",
      "metadata": {
        "id": "L1n0RYNFrpSo",
        "colab_type": "code",
        "colab": {
          "base_uri": "https://localhost:8080/",
          "height": 36
        },
        "outputId": "81915500-7c00-498b-8945-e88236f2dd86"
      },
      "source": [
        "# Conclusion (Significance level = 5%)\n",
        "if p < 0.05:\n",
        "  print(\"Reject H0 : The population mean is not equal to 0.3.\")\n",
        "else : \n",
        "  print(\"Accept H0: The population mean is 0.3.\")"
      ],
      "execution_count": 12,
      "outputs": [
        {
          "output_type": "stream",
          "text": [
            "Reject H0 : The population mean is not equal to 0.3.\n"
          ],
          "name": "stdout"
        }
      ]
    },
    {
      "cell_type": "markdown",
      "metadata": {
        "id": "PdnWlTXhr6s1",
        "colab_type": "text"
      },
      "source": [
        "\n",
        "##### [Additional] You can calculate the p-value by the SF. "
      ]
    },
    {
      "cell_type": "code",
      "metadata": {
        "id": "cE_VrlGXr9w4",
        "colab_type": "code",
        "colab": {
          "base_uri": "https://localhost:8080/",
          "height": 55
        },
        "outputId": "6e9cea97-98d1-4001-b9c1-636e6f730e6f"
      },
      "source": [
        "p = z_dist.sf(abs(z)) * 2       #sf : 살아남은 상위 비율\n",
        "print(\"p-value : {0}\".format(p))\n",
        "\n",
        "cv = z_dist.ppf(.975)\n",
        "print(\"Critical values (alpha = 0.05): -{0}, {0}\".format(cv))"
      ],
      "execution_count": 14,
      "outputs": [
        {
          "output_type": "stream",
          "text": [
            "p-value : 0.046365826437845\n",
            "Critical values (alpha = 0.05): -1.959963984540054, 1.959963984540054\n"
          ],
          "name": "stdout"
        }
      ]
    },
    {
      "cell_type": "markdown",
      "metadata": {
        "id": "8XUzwMqyurTL",
        "colab_type": "text"
      },
      "source": [
        "# (Step 4) Calculate the effect size"
      ]
    },
    {
      "cell_type": "code",
      "metadata": {
        "id": "wKHWPfpwusZB",
        "colab_type": "code",
        "colab": {}
      },
      "source": [
        "# The effect size for one-sample t-test is cohen's d.\n",
        "# d = | sample_mean - mu | / sample_std\n",
        "\n",
        "d = abs(sample_proportion - 0.3) / np.sqrt(0.3 * (1-0.3))\n",
        "\n",
        "print(\"Effect size: {}\".format(d))"
      ],
      "execution_count": null,
      "outputs": []
    }
  ]
}