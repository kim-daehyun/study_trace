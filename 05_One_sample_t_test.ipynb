{
  "nbformat": 4,
  "nbformat_minor": 0,
  "metadata": {
    "colab": {
      "name": "05_One_sample_t_test.ipynb",
      "provenance": [],
      "collapsed_sections": [],
      "authorship_tag": "ABX9TyOUnec47yUllGr3DmiX+Hsf",
      "include_colab_link": true
    },
    "kernelspec": {
      "name": "python3",
      "display_name": "Python 3"
    }
  },
  "cells": [
    {
      "cell_type": "markdown",
      "metadata": {
        "id": "view-in-github",
        "colab_type": "text"
      },
      "source": [
        "<a href=\"https://colab.research.google.com/github/kim-daehyun/study_trace/blob/Computer-Statistics/05_One_sample_t_test.ipynb\" target=\"_parent\"><img src=\"https://colab.research.google.com/assets/colab-badge.svg\" alt=\"Open In Colab\"/></a>"
      ]
    },
    {
      "cell_type": "code",
      "metadata": {
        "id": "U2pPVMbrrnIM",
        "colab_type": "code",
        "colab": {}
      },
      "source": [
        "from scipy import stats\n",
        "import numpy as np\n",
        "from scipy import integrate\n",
        "import matplotlib.pyplot as plt"
      ],
      "execution_count": null,
      "outputs": []
    },
    {
      "cell_type": "markdown",
      "metadata": {
        "id": "LV51VZsutWck",
        "colab_type": "text"
      },
      "source": [
        "# Example"
      ]
    },
    {
      "cell_type": "code",
      "metadata": {
        "id": "hX0WMfVytZIs",
        "colab_type": "code",
        "colab": {
          "base_uri": "https://localhost:8080/",
          "height": 53
        },
        "outputId": "96ae24d4-8a4a-400f-8bc7-3a193c1ac2e4"
      },
      "source": [
        "# And, here is a sample and \n",
        "# you want to test if the population where the sample is from has a mean of 4.5.\n",
        "mu = 4.5\n",
        "\n",
        "sample = [3.7, 4.9, 4.5, 4.5, 3.1, 4.0, 2.7, 3.5, 6.3, 3.7,\n",
        "           3.5, 4.0, 4.1, 5.5, 4.3, 5.2, 3.1, 3.0, 3.7, 2.6]\n",
        "\n",
        "# Calculate the sample statistics\n",
        "sample_mean = np.mean(sample)\n",
        "sample_std = np.std(sample, ddof = 1 )\n",
        "\n",
        "print(\"Mean: {}\".format(sample_mean))\n",
        "print(\"Standard Deviation (Unbiased): {}\".format(sample_std))  \n",
        "\n",
        "# Let's check the significance of the difference by the one-sample t-test."
      ],
      "execution_count": null,
      "outputs": [
        {
          "output_type": "stream",
          "text": [
            "Mean: 3.9949999999999997\n",
            "Standard Deviation (Unbiased): 0.9577797791053838\n"
          ],
          "name": "stdout"
        }
      ]
    },
    {
      "cell_type": "markdown",
      "metadata": {
        "id": "OJ2G6XL1tqZL",
        "colab_type": "text"
      },
      "source": [
        "# Step 1. Define null and alternative hypotheses"
      ]
    },
    {
      "cell_type": "code",
      "metadata": {
        "id": "QTj8IhgutrwD",
        "colab_type": "code",
        "colab": {
          "base_uri": "https://localhost:8080/",
          "height": 53
        },
        "outputId": "b8b6f423-ca0d-4547-da21-8eace616b824"
      },
      "source": [
        "# H0 : mu = 4.5\n",
        "print(\"H0: The population mean is 4.5.\")\n",
        "\n",
        "# H1 : mu != 4.5\n",
        "print(\"H1: The population mean is not equal to 4.5.\")"
      ],
      "execution_count": null,
      "outputs": [
        {
          "output_type": "stream",
          "text": [
            "H0: The population mean is 4.5.\n",
            "H1: The population mean is not equal to 4.5.\n"
          ],
          "name": "stdout"
        }
      ]
    },
    {
      "cell_type": "markdown",
      "metadata": {
        "id": "PpJ2ebtlttwr",
        "colab_type": "text"
      },
      "source": [
        "# Step 2. Calculate a test statistic"
      ]
    },
    {
      "cell_type": "code",
      "metadata": {
        "id": "mambUh6Ctugz",
        "colab_type": "code",
        "colab": {
          "base_uri": "https://localhost:8080/",
          "height": 35
        },
        "outputId": "6a6c7758-b3b8-4e44-9780-a90131d48f66"
      },
      "source": [
        "# t = (sample_mean - mu) / std_error\n",
        "\n",
        "sample_error = sample_mean - mu\n",
        "standard_error = sample_std / np.sqrt(len(sample))\n",
        "\n",
        "t = sample_error / standard_error\n",
        "\n",
        "print(\"Test statistic t: {}\".format(t))"
      ],
      "execution_count": null,
      "outputs": [
        {
          "output_type": "stream",
          "text": [
            "Test statistic t: -2.357983230116091\n"
          ],
          "name": "stdout"
        }
      ]
    },
    {
      "cell_type": "markdown",
      "metadata": {
        "id": "bfrrBqL_tv2e",
        "colab_type": "text"
      },
      "source": [
        "# Step 3. Check how likely the test statistic can be obtained."
      ]
    },
    {
      "cell_type": "code",
      "metadata": {
        "id": "wt96Nhibt0U0",
        "colab_type": "code",
        "colab": {
          "base_uri": "https://localhost:8080/",
          "height": 281
        },
        "outputId": "48af8d93-e4d8-400e-fb54-6dae911144d0"
      },
      "source": [
        "# The t-statistic follows t-distribution.\n",
        "# The t-distribution is described by DF of a sample.\n",
        "t_dist = stats.t(df = len(sample)-1) \n",
        "x = np.linspace(-7, 7, 100)  \n",
        "y = t_dist.pdf(x)      \n",
        "plt.plot(x, y)  \n",
        "plt.title(\"PDF of a t-distribution\") \n",
        "\n",
        "# Fill the area of the values to be \n",
        "# as extreme as or more extreme than the test statistic. (p-value)\n",
        "right_interval = np.linspace(abs(t), x[-1], 50) \n",
        "left_interval = np.linspace(-x[-1], -abs(t), 50) \n",
        "plt.fill_between( right_interval, t_dist.pdf(right_interval) , color='#e1b1b4', alpha=1)\n",
        "plt.fill_between( left_interval, t_dist.pdf(left_interval) , color='#e1b1b4', alpha=1)\n",
        "plt.show()"
      ],
      "execution_count": null,
      "outputs": [
        {
          "output_type": "display_data",
          "data": {
            "image/png": "[encoded data removed]",
            "text/plain": [
              "<Figure size 432x288 with 1 Axes>"
            ]
          },
          "metadata": {
            "tags": [],
            "needs_background": "light"
          }
        }
      ]
    },
    {
      "cell_type": "code",
      "metadata": {
        "id": "XFwBAN3St8Ws",
        "colab_type": "code",
        "colab": {
          "base_uri": "https://localhost:8080/",
          "height": 35
        },
        "outputId": "3ef43e13-ccac-4011-fbba-666f9f1cac0b"
      },
      "source": [
        "# Calculate the p-value.\n",
        "p, _ = integrate.quad(t_dist.pdf, left_interval[0], left_interval[-1]) #  Arg: function, from_value, to_value \n",
        "p *= 2 # two-tailed\n",
        "\n",
        "print(\"The p-value for this test: {}\".format(p))"
      ],
      "execution_count": null,
      "outputs": [
        {
          "output_type": "stream",
          "text": [
            "The p-value for this test: 0.02924414642792712\n"
          ],
          "name": "stdout"
        }
      ]
    },
    {
      "cell_type": "code",
      "metadata": {
        "id": "GOfNc2N6t-gU",
        "colab_type": "code",
        "colab": {
          "base_uri": "https://localhost:8080/",
          "height": 35
        },
        "outputId": "882305fa-07c4-4863-8f32-57523672775a"
      },
      "source": [
        "# Conclusion (Significance level = 5%)\n",
        "if p < 0.05:\n",
        "  print(\"Reject H0: The population mean is not equal to 4.5.\")\n",
        "else:\n",
        "  print(\"Accept H0: The population mean is 4.5.\")"
      ],
      "execution_count": null,
      "outputs": [
        {
          "output_type": "stream",
          "text": [
            "Reject H0: The population mean is not equal to 4.5.\n"
          ],
          "name": "stdout"
        }
      ]
    },
    {
      "cell_type": "markdown",
      "metadata": {
        "id": "FIQUIU6YuAyc",
        "colab_type": "text"
      },
      "source": [
        "##### [Additional] You can calculate the p-value by the SF. "
      ]
    },
    {
      "cell_type": "code",
      "metadata": {
        "id": "t3aDUmVyuCL8",
        "colab_type": "code",
        "colab": {}
      },
      "source": [
        "p = t_dist.sf( abs(t) ) * 2\n",
        "print(\"p-value : {0}\".format(p))"
      ],
      "execution_count": null,
      "outputs": []
    },
    {
      "cell_type": "markdown",
      "metadata": {
        "id": "tG-g3D8JuFPU",
        "colab_type": "text"
      },
      "source": [
        "### Or you can use codes in the 'stats' module."
      ]
    },
    {
      "cell_type": "code",
      "metadata": {
        "id": "CbOrx_yYuF60",
        "colab_type": "code",
        "colab": {
          "base_uri": "https://localhost:8080/",
          "height": 53
        },
        "outputId": "fb3aee5b-b174-4bf9-c3ba-350d53e47256"
      },
      "source": [
        "t_, p_ = stats.ttest_1samp(sample, mu)\n",
        "print(\"Test statistic t: {}\".format(t_))\n",
        "print(\"p-value: {}\".format(p_))"
      ],
      "execution_count": null,
      "outputs": [
        {
          "output_type": "stream",
          "text": [
            "Test statistic t: -2.357983230116091\n",
            "p-value: 0.02924529358349075\n"
          ],
          "name": "stdout"
        }
      ]
    },
    {
      "cell_type": "code",
      "metadata": {
        "id": "8_EE716buQSL",
        "colab_type": "code",
        "colab": {
          "base_uri": "https://localhost:8080/",
          "height": 35
        },
        "outputId": "ce4553e8-34b0-4d8d-fea2-4e6f41af8001"
      },
      "source": [
        "cv = t_dist.ppf(.975)\n",
        "print(\"Critical values (alpha = 0.05): -{0}, {0}\".format(cv))\n",
        "\n",
        "# If the test statistic is beyond the critical values, \n",
        "# we should reject the null hypothesis."
      ],
      "execution_count": null,
      "outputs": [
        {
          "output_type": "stream",
          "text": [
            "Critical values (alpha = 0.05): -2.093024054408263, 2.093024054408263\n"
          ],
          "name": "stdout"
        }
      ]
    },
    {
      "cell_type": "markdown",
      "metadata": {
        "id": "T5pWDjEjuSOr",
        "colab_type": "text"
      },
      "source": [
        "# (Step 4) Calculate the effect size"
      ]
    },
    {
      "cell_type": "code",
      "metadata": {
        "id": "UXvsum_GuS_V",
        "colab_type": "code",
        "colab": {
          "base_uri": "https://localhost:8080/",
          "height": 35
        },
        "outputId": "f87d7bbd-102e-48ec-e58f-395080bd9d70"
      },
      "source": [
        "# The effect size for one-sample t-test is cohen's d.\n",
        "# d = | sample_mean - mu | / sample_std\n",
        "\n",
        "d = abs(sample_mean - 4.5) / sample_std\n",
        "\n",
        "print(\"Effect size: {}\".format(d))"
      ],
      "execution_count": null,
      "outputs": [
        {
          "output_type": "stream",
          "text": [
            "Effect size: 0.5272610792344109\n"
          ],
          "name": "stdout"
        }
      ]
    }
  ]
}