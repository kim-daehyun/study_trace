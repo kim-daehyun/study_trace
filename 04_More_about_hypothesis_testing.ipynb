{
  "nbformat": 4,
  "nbformat_minor": 0,
  "metadata": {
    "colab": {
      "name": "04_More_about_hypothesis_testing.ipynb",
      "provenance": [],
      "authorship_tag": "ABX9TyM0b//Mv9x+f4eNQ+QFrxw1",
      "include_colab_link": true
    },
    "kernelspec": {
      "name": "python3",
      "display_name": "Python 3"
    }
  },
  "cells": [
    {
      "cell_type": "markdown",
      "metadata": {
        "id": "view-in-github",
        "colab_type": "text"
      },
      "source": [
        "<a href=\"https://colab.research.google.com/github/kim-daehyun/study_trace/blob/Computer-Statistics/04_More_about_hypothesis_testing.ipynb\" target=\"_parent\"><img src=\"https://colab.research.google.com/assets/colab-badge.svg\" alt=\"Open In Colab\"/></a>"
      ]
    },
    {
      "cell_type": "code",
      "metadata": {
        "id": "PiyMHeQvYP97",
        "colab_type": "code",
        "colab": {}
      },
      "source": [
        "from scipy import stats\n",
        "import numpy as np\n",
        "import matplotlib.pyplot as plt\n",
        "%matplotlib inline"
      ],
      "execution_count": null,
      "outputs": []
    },
    {
      "cell_type": "markdown",
      "metadata": {
        "id": "r_vnvf_MYo3i",
        "colab_type": "text"
      },
      "source": [
        "# 1. Central Limit Theorem"
      ]
    },
    {
      "cell_type": "code",
      "metadata": {
        "id": "CACdDKoUY4r4",
        "colab_type": "code",
        "colab": {
          "base_uri": "https://localhost:8080/",
          "height": 390
        },
        "outputId": "29b0c26e-3b0d-4a52-e659-10581e5ca629"
      },
      "source": [
        "# What if sample distribution of the sample mean \n",
        "# from the normally distributed values.\n",
        "\n",
        "norm_dist = stats.norm(loc=0, scale=1)\n",
        "\n",
        "fig = plt.figure(figsize=(12, 6)) \n",
        "\n",
        "# Individual data point\n",
        "sample_means1 = []\n",
        "for i in range(2000):\n",
        "  sample_means1 += [np.mean(norm_dist.rvs(size = 1))]\n",
        "\n",
        "ax1 = plt.subplot(131)\n",
        "ax1.set_title(\"Average over 1\")\n",
        "_ = ax1.hist(sample_means1, bins=50, rwidth = 0.7)\n",
        "\n",
        "# Sample mean with a size of 2 \n",
        "sample_means2 = []\n",
        "for i in range(2000):\n",
        "  sample_means2 += [np.mean(norm_dist.rvs(size = 2))]\n",
        "\n",
        "ax2 = plt.subplot(132)\n",
        "ax2.set_title(\"Average over 2\")\n",
        "_ = ax2.hist(sample_means2, bins=50, rwidth = 0.8)\n",
        "\n",
        "# Sample mean with a size of 30\n",
        "sample_means30 = []\n",
        "for i in range(2000):\n",
        "  sample_means30 += [np.mean(norm_dist.rvs(size = 30))]\n",
        "\n",
        "ax3 = plt.subplot(133)\n",
        "ax3.set_title(\"Average over 30\")\n",
        "_ = ax3.hist(sample_means30, bins=50, rwidth = 0.8)\n"
      ],
      "execution_count": null,
      "outputs": [
        {
          "output_type": "display_data",
          "data": {
            "image/png": "[encoded data removed]",
            "text/plain": [
              "<Figure size 864x432 with 3 Axes>"
            ]
          },
          "metadata": {
            "tags": [],
            "needs_background": "light"
          }
        }
      ]
    },
    {
      "cell_type": "code",
      "metadata": {
        "id": "s-Brkw0giF_i",
        "colab_type": "code",
        "colab": {
          "base_uri": "https://localhost:8080/",
          "height": 390
        },
        "outputId": "ab73c162-8a27-4dfd-d22a-82a745c87cc4"
      },
      "source": [
        "# What if sample distribution of the sample mean \n",
        "# from the not normally distributed values.\n",
        "\n",
        "uniform_dist = stats.uniform()\n",
        "\n",
        "fig = plt.figure(figsize=(12, 6)) \n",
        "\n",
        "# Individual data point\n",
        "sample_means1 = []\n",
        "for i in range(2000):\n",
        "  sample_means1 += [np.mean(uniform_dist.rvs(size = 1))]\n",
        "\n",
        "ax1 = plt.subplot(131)\n",
        "ax1.set_title(\"Average over 1\")\n",
        "_ = ax1.hist(sample_means1, bins=50, rwidth = 0.8)\n",
        "\n",
        "# Sample mean with a size of 2 \n",
        "sample_means2 = []\n",
        "for i in range(2000):\n",
        "  sample_means2 += [np.mean(uniform_dist.rvs(size = 2))]\n",
        "\n",
        "ax2 = plt.subplot(132)\n",
        "ax2.set_title(\"Average over 2\")\n",
        "_ = ax2.hist(sample_means2, bins=50, rwidth = 0.8)\n",
        "\n",
        "# Sample mean with a size of 30\n",
        "sample_means30 = []\n",
        "for i in range(2000):\n",
        "  sample_means30 += [np.mean(uniform_dist.rvs(size = 30))]\n",
        "\n",
        "ax3 = plt.subplot(133)\n",
        "ax3.set_title(\"Average over 30\")\n",
        "_ = ax3.hist(sample_means30, bins=50, rwidth = 0.8)"
      ],
      "execution_count": null,
      "outputs": [
        {
          "output_type": "display_data",
          "data": {
            "image/png": "[encoded data removed]",
            "text/plain": [
              "<Figure size 864x432 with 3 Axes>"
            ]
          },
          "metadata": {
            "tags": [],
            "needs_background": "light"
          }
        }
      ]
    },
    {
      "cell_type": "markdown",
      "metadata": {
        "id": "cygSw8sjmaG0",
        "colab_type": "text"
      },
      "source": [
        "# 2. Normality check"
      ]
    },
    {
      "cell_type": "markdown",
      "metadata": {
        "id": "v5T61J0Rmez0",
        "colab_type": "text"
      },
      "source": [
        "### 2.1. Visual inspection (Probability Plot)"
      ]
    },
    {
      "cell_type": "code",
      "metadata": {
        "id": "cr4K5NvNmwJT",
        "colab_type": "code",
        "colab": {
          "base_uri": "https://localhost:8080/",
          "height": 337
        },
        "outputId": "d16a7b1b-479a-4df9-b806-5dc42b0d01a6"
      },
      "source": [
        "# Create a normal distribution and make some sample.\n",
        "norm_dist = stats.norm(loc=18, scale=5)\n",
        "norm_sample = norm_dist.rvs(size = 30)\n",
        "\n",
        "ax1 = plt.subplot(221)\n",
        "res = stats.probplot(norm_sample, plot=plt)\n",
        "plt.show()\n",
        "\n",
        "# Create a F-distribution and make some sample.\n",
        "f_dist = stats.f(dfn=3, dfd=4)\n",
        "f_sample = f_dist.rvs(size = 30)\n",
        "\n",
        "ax1 = plt.subplot(223)\n",
        "res = stats.probplot(f_sample, plot=plt)\n",
        "plt.show()\n"
      ],
      "execution_count": null,
      "outputs": [
        {
          "output_type": "display_data",
          "data": {
            "image/png": "[encoded data removed]",
            "text/plain": [
              "<Figure size 432x288 with 1 Axes>"
            ]
          },
          "metadata": {
            "tags": [],
            "needs_background": "light"
          }
        },
        {
          "output_type": "display_data",
          "data": {
            "image/png": "[encoded data removed]",
            "text/plain": [
              "<Figure size 432x288 with 1 Axes>"
            ]
          },
          "metadata": {
            "tags": [],
            "needs_background": "light"
          }
        }
      ]
    },
    {
      "cell_type": "markdown",
      "metadata": {
        "id": "nhEAEnDBrQJE",
        "colab_type": "text"
      },
      "source": [
        "### 2.2. Normality test"
      ]
    },
    {
      "cell_type": "code",
      "metadata": {
        "id": "WE_7FtJ6rRAj",
        "colab_type": "code",
        "colab": {
          "base_uri": "https://localhost:8080/",
          "height": 89
        },
        "outputId": "3cd61aef-e2d8-4c64-8788-a92793cc9f40"
      },
      "source": [
        "# D'Agostino-Pearson omnibus test\n",
        "# H0: The population is normally distributed.\n",
        "test_stat, p = stats.normaltest(norm_sample)\n",
        "print(\"p-value for the normality test: {}\".format(p))\n",
        "print(\"\\n## Conclusion on the normal sample\")\n",
        "\n",
        "if p < 0.05:\n",
        "  print(\"Reject H0: The population is not normally distributed.\")\n",
        "else:\n",
        "  print(\"Accept H0: The population is normally distributed.\")"
      ],
      "execution_count": null,
      "outputs": [
        {
          "output_type": "stream",
          "text": [
            "p-value for the normality test: 0.4503862825576229\n",
            "\n",
            "## Conclusion on the normal sample\n",
            "Accept H0: The population is normally distributed.\n"
          ],
          "name": "stdout"
        }
      ]
    },
    {
      "cell_type": "code",
      "metadata": {
        "id": "Y2-ka2iBri-8",
        "colab_type": "code",
        "colab": {
          "base_uri": "https://localhost:8080/",
          "height": 89
        },
        "outputId": "cfd865e1-40bc-4d92-aeb2-c22c1c8369b5"
      },
      "source": [
        "# D'Agostino-Pearson omnibus test\n",
        "# H0: The population is normally distributed.\n",
        "test_stat, p = stats.normaltest(f_sample)\n",
        "print(\"p-value for the normality test: {}\".format(p))\n",
        "print(\"\\n## Conclusion on the normal sample\")\n",
        "\n",
        "if p < 0.05:\n",
        "  print(\"Reject H0: The population is not normally distributed.\")\n",
        "else:\n",
        "  print(\"Accept H0: The population is normally distributed.\")"
      ],
      "execution_count": null,
      "outputs": [
        {
          "output_type": "stream",
          "text": [
            "p-value for the normality test: 2.865667515377744e-07\n",
            "\n",
            "## Conclusion on the normal sample\n",
            "Reject H0: The population is not normally distributed.\n"
          ],
          "name": "stdout"
        }
      ]
    }
  ]
}